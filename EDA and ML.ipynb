{
  "nbformat": 4,
  "nbformat_minor": 0,
  "metadata": {
    "colab": {
      "provenance": []
    },
    "kernelspec": {
      "name": "python3",
      "display_name": "Python 3"
    },
    "language_info": {
      "name": "python"
    }
  },
  "cells": [
    {
      "cell_type": "markdown",
      "source": [
        "# Spark"
      ],
      "metadata": {
        "id": "0LAFbiuugRaN"
      }
    },
    {
      "cell_type": "code",
      "execution_count": 1,
      "metadata": {
        "id": "efjHgRPMgGE_",
        "colab": {
          "base_uri": "https://localhost:8080/"
        },
        "outputId": "7853df19-f8f8-4ee8-9ce4-4d1a183562a1"
      },
      "outputs": [
        {
          "output_type": "stream",
          "name": "stdout",
          "text": [
            "Reading package lists... Done\n",
            "Building dependency tree       \n",
            "Reading state information... Done\n",
            "The following additional packages will be installed:\n",
            "  libxtst6 openjdk-8-jre-headless\n",
            "Suggested packages:\n",
            "  openjdk-8-demo openjdk-8-source libnss-mdns fonts-dejavu-extra\n",
            "  fonts-ipafont-gothic fonts-ipafont-mincho fonts-wqy-microhei\n",
            "  fonts-wqy-zenhei fonts-indic\n",
            "The following NEW packages will be installed:\n",
            "  libxtst6 openjdk-8-jdk-headless openjdk-8-jre-headless\n",
            "0 upgraded, 3 newly installed, 0 to remove and 24 not upgraded.\n",
            "Need to get 36.5 MB of archives.\n",
            "After this operation, 144 MB of additional disk space will be used.\n",
            "Get:1 http://archive.ubuntu.com/ubuntu focal/main amd64 libxtst6 amd64 2:1.2.3-1 [12.8 kB]\n",
            "Get:2 http://archive.ubuntu.com/ubuntu focal-updates/universe amd64 openjdk-8-jre-headless amd64 8u372-ga~us1-0ubuntu1~20.04 [28.3 MB]\n",
            "Get:3 http://archive.ubuntu.com/ubuntu focal-updates/universe amd64 openjdk-8-jdk-headless amd64 8u372-ga~us1-0ubuntu1~20.04 [8,282 kB]\n",
            "Fetched 36.5 MB in 3s (12.2 MB/s)\n",
            "Selecting previously unselected package libxtst6:amd64.\n",
            "(Reading database ... 122531 files and directories currently installed.)\n",
            "Preparing to unpack .../libxtst6_2%3a1.2.3-1_amd64.deb ...\n",
            "Unpacking libxtst6:amd64 (2:1.2.3-1) ...\n",
            "Selecting previously unselected package openjdk-8-jre-headless:amd64.\n",
            "Preparing to unpack .../openjdk-8-jre-headless_8u372-ga~us1-0ubuntu1~20.04_amd64.deb ...\n",
            "Unpacking openjdk-8-jre-headless:amd64 (8u372-ga~us1-0ubuntu1~20.04) ...\n",
            "Selecting previously unselected package openjdk-8-jdk-headless:amd64.\n",
            "Preparing to unpack .../openjdk-8-jdk-headless_8u372-ga~us1-0ubuntu1~20.04_amd64.deb ...\n",
            "Unpacking openjdk-8-jdk-headless:amd64 (8u372-ga~us1-0ubuntu1~20.04) ...\n",
            "Setting up libxtst6:amd64 (2:1.2.3-1) ...\n",
            "Setting up openjdk-8-jre-headless:amd64 (8u372-ga~us1-0ubuntu1~20.04) ...\n",
            "update-alternatives: using /usr/lib/jvm/java-8-openjdk-amd64/jre/bin/orbd to provide /usr/bin/orbd (orbd) in auto mode\n",
            "update-alternatives: using /usr/lib/jvm/java-8-openjdk-amd64/jre/bin/servertool to provide /usr/bin/servertool (servertool) in auto mode\n",
            "update-alternatives: using /usr/lib/jvm/java-8-openjdk-amd64/jre/bin/tnameserv to provide /usr/bin/tnameserv (tnameserv) in auto mode\n",
            "Setting up openjdk-8-jdk-headless:amd64 (8u372-ga~us1-0ubuntu1~20.04) ...\n",
            "update-alternatives: using /usr/lib/jvm/java-8-openjdk-amd64/bin/idlj to provide /usr/bin/idlj (idlj) in auto mode\n",
            "update-alternatives: using /usr/lib/jvm/java-8-openjdk-amd64/bin/wsimport to provide /usr/bin/wsimport (wsimport) in auto mode\n",
            "update-alternatives: using /usr/lib/jvm/java-8-openjdk-amd64/bin/jsadebugd to provide /usr/bin/jsadebugd (jsadebugd) in auto mode\n",
            "update-alternatives: using /usr/lib/jvm/java-8-openjdk-amd64/bin/native2ascii to provide /usr/bin/native2ascii (native2ascii) in auto mode\n",
            "update-alternatives: using /usr/lib/jvm/java-8-openjdk-amd64/bin/javah to provide /usr/bin/javah (javah) in auto mode\n",
            "update-alternatives: using /usr/lib/jvm/java-8-openjdk-amd64/bin/clhsdb to provide /usr/bin/clhsdb (clhsdb) in auto mode\n",
            "update-alternatives: using /usr/lib/jvm/java-8-openjdk-amd64/bin/jhat to provide /usr/bin/jhat (jhat) in auto mode\n",
            "update-alternatives: using /usr/lib/jvm/java-8-openjdk-amd64/bin/extcheck to provide /usr/bin/extcheck (extcheck) in auto mode\n",
            "update-alternatives: using /usr/lib/jvm/java-8-openjdk-amd64/bin/hsdb to provide /usr/bin/hsdb (hsdb) in auto mode\n",
            "update-alternatives: using /usr/lib/jvm/java-8-openjdk-amd64/bin/schemagen to provide /usr/bin/schemagen (schemagen) in auto mode\n",
            "update-alternatives: using /usr/lib/jvm/java-8-openjdk-amd64/bin/xjc to provide /usr/bin/xjc (xjc) in auto mode\n",
            "update-alternatives: using /usr/lib/jvm/java-8-openjdk-amd64/bin/wsgen to provide /usr/bin/wsgen (wsgen) in auto mode\n",
            "Processing triggers for libc-bin (2.31-0ubuntu9.9) ...\n"
          ]
        }
      ],
      "source": [
        "!apt-get install openjdk-8-jdk-headless"
      ]
    },
    {
      "cell_type": "code",
      "source": [
        "!wget https://archive.apache.org/dist/spark/spark-3.2.1/spark-3.2.1-bin-hadoop2.7.tgz"
      ],
      "metadata": {
        "id": "XpAis_3Sg81_",
        "colab": {
          "base_uri": "https://localhost:8080/"
        },
        "outputId": "943a1c56-3fbe-482b-bb40-27af5aa3acaa"
      },
      "execution_count": 2,
      "outputs": [
        {
          "output_type": "stream",
          "name": "stdout",
          "text": [
            "--2023-05-19 03:57:16--  https://archive.apache.org/dist/spark/spark-3.2.1/spark-3.2.1-bin-hadoop2.7.tgz\n",
            "Resolving archive.apache.org (archive.apache.org)... 138.201.131.134, 2a01:4f8:172:2ec5::2\n",
            "Connecting to archive.apache.org (archive.apache.org)|138.201.131.134|:443... connected.\n",
            "HTTP request sent, awaiting response... 200 OK\n",
            "Length: 272637746 (260M) [application/x-gzip]\n",
            "Saving to: ‘spark-3.2.1-bin-hadoop2.7.tgz’\n",
            "\n",
            "spark-3.2.1-bin-had 100%[===================>] 260.01M   245KB/s    in 20m 55s \n",
            "\n",
            "2023-05-19 04:18:11 (212 KB/s) - ‘spark-3.2.1-bin-hadoop2.7.tgz’ saved [272637746/272637746]\n",
            "\n"
          ]
        }
      ]
    },
    {
      "cell_type": "code",
      "source": [
        "!tar xf spark-3.2.1-bin-hadoop2.7.tgz"
      ],
      "metadata": {
        "id": "25VTwkoXhPNN"
      },
      "execution_count": 3,
      "outputs": []
    },
    {
      "cell_type": "code",
      "source": [
        "!pip install -q findspark"
      ],
      "metadata": {
        "id": "_ajw1R3ThTTM"
      },
      "execution_count": 4,
      "outputs": []
    },
    {
      "cell_type": "code",
      "source": [
        "import os\n",
        "os.environ[\"JAVA_HOME\"] = \"/usr/lib/jvm/java-8-openjdk-amd64\"\n",
        "os.environ[\"SPARK_HOME\"] = \"/content/spark-3.2.1-bin-hadoop2.7\""
      ],
      "metadata": {
        "id": "O7irjTqPhYbj"
      },
      "execution_count": 5,
      "outputs": []
    },
    {
      "cell_type": "code",
      "source": [
        "import findspark\n",
        "findspark.init()\n",
        "findspark.find()"
      ],
      "metadata": {
        "colab": {
          "base_uri": "https://localhost:8080/",
          "height": 35
        },
        "id": "iVu0m_T0hba7",
        "outputId": "137ea9d0-0107-418f-c4e8-825e1a57c9c6"
      },
      "execution_count": 6,
      "outputs": [
        {
          "output_type": "execute_result",
          "data": {
            "text/plain": [
              "'/content/spark-3.2.1-bin-hadoop2.7'"
            ],
            "application/vnd.google.colaboratory.intrinsic+json": {
              "type": "string"
            }
          },
          "metadata": {},
          "execution_count": 6
        }
      ]
    },
    {
      "cell_type": "code",
      "source": [
        "from pyspark.sql import SparkSession\n",
        "\n",
        "spark = SparkSession.builder\\\n",
        "        .master(\"local\")\\\n",
        "        .appName(\"Colab\")\\\n",
        "        .config('spark.ui.port', '4050')\\\n",
        "        .getOrCreate()"
      ],
      "metadata": {
        "id": "Ye3V8gbEhfNe"
      },
      "execution_count": 7,
      "outputs": []
    },
    {
      "cell_type": "code",
      "source": [
        "spark"
      ],
      "metadata": {
        "id": "2QNYt4IJhsxA",
        "colab": {
          "base_uri": "https://localhost:8080/",
          "height": 219
        },
        "outputId": "76816416-1d80-4bfb-c39d-fe265c13c593"
      },
      "execution_count": 8,
      "outputs": [
        {
          "output_type": "execute_result",
          "data": {
            "text/plain": [
              "<pyspark.sql.session.SparkSession at 0x7f6a805b9f30>"
            ],
            "text/html": [
              "\n",
              "            <div>\n",
              "                <p><b>SparkSession - in-memory</b></p>\n",
              "                \n",
              "        <div>\n",
              "            <p><b>SparkContext</b></p>\n",
              "\n",
              "            <p><a href=\"http://38137dc5ec70:4050\">Spark UI</a></p>\n",
              "\n",
              "            <dl>\n",
              "              <dt>Version</dt>\n",
              "                <dd><code>v3.2.1</code></dd>\n",
              "              <dt>Master</dt>\n",
              "                <dd><code>local</code></dd>\n",
              "              <dt>AppName</dt>\n",
              "                <dd><code>Colab</code></dd>\n",
              "            </dl>\n",
              "        </div>\n",
              "        \n",
              "            </div>\n",
              "        "
            ]
          },
          "metadata": {},
          "execution_count": 8
        }
      ]
    },
    {
      "cell_type": "code",
      "source": [
        "pip install gmplot"
      ],
      "metadata": {
        "id": "O12-TVzBhv-G",
        "colab": {
          "base_uri": "https://localhost:8080/"
        },
        "outputId": "4ef0c375-6c54-4bb6-98d3-f481b4d7df34"
      },
      "execution_count": 9,
      "outputs": [
        {
          "output_type": "stream",
          "name": "stdout",
          "text": [
            "Looking in indexes: https://pypi.org/simple, https://us-python.pkg.dev/colab-wheels/public/simple/\n",
            "Collecting gmplot\n",
            "  Downloading gmplot-1.4.1-py3-none-any.whl (164 kB)\n",
            "\u001b[?25l     \u001b[90m━━━━━━━━━━━━━━━━━━━━━━━━━━━━━━━━━━━━━━━━\u001b[0m \u001b[32m0.0/164.7 kB\u001b[0m \u001b[31m?\u001b[0m eta \u001b[36m-:--:--\u001b[0m\r\u001b[2K     \u001b[90m━━━━━━━━━━━━━━━━━━━━━━━━━━━━━━━━━━━━━━━\u001b[0m \u001b[32m164.7/164.7 kB\u001b[0m \u001b[31m5.8 MB/s\u001b[0m eta \u001b[36m0:00:00\u001b[0m\n",
            "\u001b[?25hRequirement already satisfied: requests in /usr/local/lib/python3.10/dist-packages (from gmplot) (2.27.1)\n",
            "Requirement already satisfied: urllib3<1.27,>=1.21.1 in /usr/local/lib/python3.10/dist-packages (from requests->gmplot) (1.26.15)\n",
            "Requirement already satisfied: certifi>=2017.4.17 in /usr/local/lib/python3.10/dist-packages (from requests->gmplot) (2022.12.7)\n",
            "Requirement already satisfied: charset-normalizer~=2.0.0 in /usr/local/lib/python3.10/dist-packages (from requests->gmplot) (2.0.12)\n",
            "Requirement already satisfied: idna<4,>=2.5 in /usr/local/lib/python3.10/dist-packages (from requests->gmplot) (3.4)\n",
            "Installing collected packages: gmplot\n",
            "Successfully installed gmplot-1.4.1\n"
          ]
        }
      ]
    },
    {
      "cell_type": "markdown",
      "source": [
        "# EDA"
      ],
      "metadata": {
        "id": "zW9Q-_N2h7jG"
      }
    },
    {
      "cell_type": "code",
      "source": [
        "#importing essential libraries\n",
        "import pyspark.sql\n",
        "import datetime\n",
        "from pyspark.sql.functions import *\n",
        "from pyspark import SparkContext\n",
        "from pyspark.sql import SparkSession\n",
        "from pyspark.sql.functions import lit\n",
        "import pyspark\n",
        "import numpy as np\n",
        "import pandas as pd\n",
        "import pyspark.ml.feature\n",
        "import pyspark.ml.classification \n",
        "import pyspark.ml.evaluation\n",
        "from pyspark.ml.feature import VectorAssembler\n",
        "from pyspark.ml.classification import DecisionTreeClassifier\n",
        "from pyspark.ml.classification import LogisticRegression\n",
        "from pyspark.ml.evaluation import MulticlassClassificationEvaluator, BinaryClassificationEvaluator\n",
        "from pyspark.ml.classification import LinearSVC\n",
        "from sklearn.metrics import confusion_matrix\n",
        "from pyspark.ml.classification import NaiveBayes \n",
        "from geopy.geocoders import Nominatim\n",
        "import numpy as np\n",
        "import gmplot\n",
        "import pandas as pd\n",
        "import numpy as np\n",
        "import matplotlib.pyplot as plt # for plotting\n",
        "import seaborn as sns\n",
        "import os\n",
        "from geopy.geocoders import Nominatim\n",
        "import folium\n",
        "from folium.plugins import MarkerCluster\n",
        "import webbrowser"
      ],
      "metadata": {
        "id": "ui8QcAAYiATu"
      },
      "execution_count": 10,
      "outputs": []
    },
    {
      "cell_type": "code",
      "source": [
        "#Loading datasets into spark\n",
        "DF_LevelEvents = spark.read.csv(\"/content/level-events.csv\", header=True, inferSchema=True)\n",
        "DF_GameClicks = spark.read.csv(\"/content/game-clicks.csv\", header=True, inferSchema=True)\n",
        "DF_BuyClicks = spark.read.csv(\"/content/buy-clicks.csv\", header=True, inferSchema=True)\n",
        "DF_AdClicks = spark.read.csv(\"/content/ad-clicks.csv\", header=True, inferSchema=True)\n",
        "DF_Users = spark.read.csv(\"/content/users.csv\", header=True, inferSchema=True)\n",
        "DF_UserSession = spark.read.csv(\"/content/user-session.csv\", header=True, inferSchema=True)\n",
        "DF_Team = spark.read.csv(\"/content/team.csv\", header=True, inferSchema=True)\n",
        "DF_TeamAssignment = spark.read.csv(\"/content/team-assignments.csv\", header=True, inferSchema=True)\n"
      ],
      "metadata": {
        "id": "r9zmBUhFiMG2"
      },
      "execution_count": 11,
      "outputs": []
    },
    {
      "cell_type": "code",
      "source": [
        "#remove all rows with missing values\n",
        "DF_Users = DF_Users.na.drop()\n",
        "DF_UserSession = DF_UserSession.na.drop()\n",
        "DF_Team = DF_Team.na.drop()\n",
        "DF_TeamAssignment = DF_TeamAssignment.na.drop()\n",
        "DF_LevelEvents = DF_LevelEvents.na.drop()\n",
        "DF_GameClicks = DF_GameClicks.na.drop()\n",
        "DF_BuyClicks = DF_BuyClicks.na.drop()\n",
        "DF_AdClicks = DF_AdClicks.na.drop()"
      ],
      "metadata": {
        "id": "pw3nmLvziTXx"
      },
      "execution_count": 12,
      "outputs": []
    },
    {
      "cell_type": "code",
      "source": [
        "from pyspark.sql.functions import col, when, floor, datediff\n",
        "from datetime import date\n",
        "\n",
        "# Calculate age from date of birth\n",
        "today = date.today()\n",
        "DF_Users = DF_Users.withColumn('age', floor(datediff(lit(today), 'dob') / 365.25))\n",
        "\n",
        "# Define age group conditions\n",
        "age_group_conditions = [(col('age').between(i, i+9), f'{i}-{i+9}') for i in range(0, 100, 10)]\n",
        "\n",
        "# Apply age group conditions\n",
        "age_group_expression = when(age_group_conditions[0][0], age_group_conditions[0][1])\n",
        "for condition, group in age_group_conditions[1:]:\n",
        "    age_group_expression = age_group_expression.when(condition, group)\n",
        "\n",
        "# Add 'age_group' column to DF_Users\n",
        "DF_Users = DF_Users.withColumn('age_group', age_group_expression.otherwise(None))\n",
        "\n",
        "DF_Users = DF_Users.drop('dob')\n",
        "# Show the resulting DataFrame\n",
        "DF_Users.show()\n"
      ],
      "metadata": {
        "id": "8pUJulx5iYnO",
        "colab": {
          "base_uri": "https://localhost:8080/"
        },
        "outputId": "8a93df5a-6eec-433b-c26b-28db38fc8169"
      },
      "execution_count": 13,
      "outputs": [
        {
          "output_type": "stream",
          "name": "stdout",
          "text": [
            "+-------------------+------+-----------+----------+-------+---+---------+\n",
            "|          timestamp|userId|       nick|   twitter|country|age|age_group|\n",
            "+-------------------+------+-----------+----------+-------+---+---------+\n",
            "|2012-06-19 14:53:41|   442|   pcjIOBKW|  @SZhyOHv|     BA| 28|    20-29|\n",
            "|2012-06-19 19:29:01|   949|    vAOfUkf|    @nkkNo|     HU| 52|    50-59|\n",
            "|2012-06-20 19:34:59|  1654|     qOOXSQ|    @SwOlw|     IS| 53|    50-59|\n",
            "|2012-06-21 01:18:29|  1586|    px4gW51|  @IrCHTnE|     AM| 57|    50-59|\n",
            "|2012-06-21 15:35:00|   599|9gkfwRC73Uc|   @VJj0Az|     CC| 28|    20-29|\n",
            "|2012-06-22 11:36:19|   952| BRbb3VOTti|   @b4OK6K|     MH| 36|    30-39|\n",
            "|2012-06-23 08:11:18|  1056|    fGCIAtI| @IgDsdWdU|     SM| 31|    30-39|\n",
            "|2012-06-23 10:54:19|    91|tpDfgi3S0N9|   @LvTHGO|     BZ| 45|    40-49|\n",
            "|2012-06-23 14:59:26|   809| LkNRpRW6Ez|@ROrRkXwdh|     PF| 71|    70-79|\n",
            "|2012-06-23 17:40:35|    75|     fNWewX|   @OXqLyv|     JO| 43|    40-49|\n",
            "|2012-06-23 17:57:05|  2224|   rvXvUU9J|  @YexGCPm|     GW| 26|    20-29|\n",
            "|2012-06-24 05:29:24|   361|    Pk8oT6o|    @9YksF|     CK| 42|    40-49|\n",
            "|2012-06-24 23:33:59|   584|TBRJ3YueQCa|    @QsYLb|     MD| 66|    60-69|\n",
            "|2012-06-25 01:48:50|   295|zBxoWozeDlB| @An4tm5np|     HK| 46|    40-49|\n",
            "|2012-06-25 02:01:25|  1493|     GnvF8P|  @KnN5TLT|     QA| 43|    40-49|\n",
            "|2012-06-25 06:38:10|  1605|  m7eHxdgoz| @tcfAzJ3m|     ZA| 41|    40-49|\n",
            "|2012-06-25 15:04:21|   848|  ZWIRmprJd| @qrP2pQcE|     SE| 33|    30-39|\n",
            "|2012-06-25 16:53:28|   962|  19aggoZfQ|  @u5Smf32|     MM| 73|    70-79|\n",
            "|2012-06-26 15:12:33|  2034| olBz6o3Ulg| @lxLPvLKK|     FO| 39|    30-39|\n",
            "|2012-06-26 22:42:21|   379|  R1Mk1AVrv|    @UGHdE|     DJ| 43|    40-49|\n",
            "+-------------------+------+-----------+----------+-------+---+---------+\n",
            "only showing top 20 rows\n",
            "\n"
          ]
        }
      ]
    },
    {
      "cell_type": "markdown",
      "source": [
        "**PLOTING DIFFERENT PLAYERS BELONGS TO DIFFERENT AGE GROUPS**"
      ],
      "metadata": {
        "id": "X4qO4dWQjqGl"
      }
    },
    {
      "cell_type": "code",
      "source": [
        "\n",
        "# Group the players by age group and count the number of players in each group\n",
        "age_group_counts = DF_Users.groupBy('Age_Group').count().orderBy('Age_Group')\n",
        "\n",
        "# Extract the age groups and count values from the DataFrame\n",
        "age_groups = age_group_counts.select('age_group').rdd.flatMap(lambda x: x).collect()\n",
        "counts = age_group_counts.select('count').rdd.flatMap(lambda x: x).collect()\n",
        "\n",
        "# Create a bar plot with a modern style\n",
        "plt.style.use('seaborn')\n",
        "\n",
        "fig, ax = plt.subplots()\n",
        "bar_width = 0.5\n",
        "\n",
        "# Set the x positions of the bars\n",
        "x_pos = np.arange(len(age_groups))\n",
        "\n",
        "# Plot the bars\n",
        "bars = ax.bar(x_pos, counts, bar_width, color='teal')\n",
        "\n",
        "# Set the x-axis labels and tick positions\n",
        "ax.set_xlabel('Age Group')\n",
        "ax.set_ylabel('Count')\n",
        "ax.set_title('Age Group Distribution of Players')\n",
        "ax.set_xticks(x_pos)\n",
        "ax.set_xticklabels(age_groups)\n",
        "\n",
        "# Rotate the x-axis labels for better visibility\n",
        "plt.xticks(rotation=45, ha='right')\n",
        "\n",
        "# Add value labels on top of each bar\n",
        "for bar in bars:\n",
        "    height = bar.get_height()\n",
        "    ax.text(bar.get_x() + bar.get_width() / 2, height, height, ha='center', va='bottom')\n",
        "\n",
        "# Display the plot\n",
        "plt.tight_layout()\n",
        "plt.show()\n",
        "\n"
      ],
      "metadata": {
        "id": "mByvUcQvjmRE",
        "colab": {
          "base_uri": "https://localhost:8080/",
          "height": 612
        },
        "outputId": "b5fa78af-7358-4743-d50a-a2540dc72aa9"
      },
      "execution_count": 15,
      "outputs": [
        {
          "output_type": "stream",
          "name": "stderr",
          "text": [
            "<ipython-input-15-12bf861cc5e5>:9: MatplotlibDeprecationWarning: The seaborn styles shipped by Matplotlib are deprecated since 3.6, as they no longer correspond to the styles shipped by seaborn. However, they will remain available as 'seaborn-v0_8-<style>'. Alternatively, directly use the seaborn API instead.\n",
            "  plt.style.use('seaborn')\n"
          ]
        },
        {
          "output_type": "display_data",
          "data": {
            "text/plain": [
              "<Figure size 800x550 with 1 Axes>"
            ],
            "image/png": "[encoded data removed]"
          },
          "metadata": {}
        }
      ]
    },
    {
      "cell_type": "code",
      "source": [
        "DF_Users = DF_Users.drop('age_group')"
      ],
      "metadata": {
        "id": "50LczcpJqAL2"
      },
      "execution_count": 16,
      "outputs": []
    },
    {
      "cell_type": "code",
      "source": [
        "#drop columns not needed from userSession.csv\n",
        "DF_UserSession = DF_UserSession.drop('timestamp', 'userSessionId', 'assignmentId', 'sessionType', 'teamLevel')\n",
        "#drop duplicates from userSession\n",
        "DF_UserSession.dropDuplicates(['userId']).show()"
      ],
      "metadata": {
        "id": "UIMcDbf7j3ZG",
        "colab": {
          "base_uri": "https://localhost:8080/"
        },
        "outputId": "841a1c36-308d-4a8d-fe84-eea713ddaed4"
      },
      "execution_count": 17,
      "outputs": [
        {
          "output_type": "stream",
          "name": "stdout",
          "text": [
            "+------+------+------------+\n",
            "|userId|teamId|platformType|\n",
            "+------+------+------------+\n",
            "|     0|   157|      iphone|\n",
            "|     1|    99|     android|\n",
            "|     2|    22|      iphone|\n",
            "|     6|    77|      iphone|\n",
            "|     8|   124|      iphone|\n",
            "|     9|    97|      iphone|\n",
            "|    10|   131|       linux|\n",
            "|    12|    66|      iphone|\n",
            "|    13|    78|     android|\n",
            "|    14|   104|       linux|\n",
            "|    15|    74|     windows|\n",
            "|    16|   113|     android|\n",
            "|    17|    97|     android|\n",
            "|    20|   120|      iphone|\n",
            "|    21|     9|     android|\n",
            "|    23|   103|     android|\n",
            "|    25|    75|         mac|\n",
            "|    26|   173|     windows|\n",
            "|    27|    70|         mac|\n",
            "|    28|    64|      iphone|\n",
            "+------+------+------------+\n",
            "only showing top 20 rows\n",
            "\n"
          ]
        }
      ]
    },
    {
      "cell_type": "code",
      "source": [
        "#join users.csv with userSession.csv\n",
        "DF_New = DF_Users.join(DF_UserSession,[\"userId\"])"
      ],
      "metadata": {
        "id": "JulOaecQj54s"
      },
      "execution_count": 18,
      "outputs": []
    },
    {
      "cell_type": "code",
      "source": [
        "DF_Team.show()"
      ],
      "metadata": {
        "id": "HJ8BN5Cxj8jc",
        "colab": {
          "base_uri": "https://localhost:8080/"
        },
        "outputId": "0bd860c9-9d81-461b-994c-c0a214fd87e6"
      },
      "execution_count": 19,
      "outputs": [
        {
          "output_type": "stream",
          "name": "stdout",
          "text": [
            "+------+-----------+-------------------+-------------------+---------------+------------+\n",
            "|teamId|       name|   teamCreationTime|        teamEndTime|       strength|currentLevel|\n",
            "+------+-----------+-------------------+-------------------+---------------+------------+\n",
            "|    79|    O1uJX7C|2016-06-12 15:33:27|9999-12-31 23:59:59| 0.774473575316|           1|\n",
            "|    92|   WeLHp8HZ|2016-06-12 21:54:20|9999-12-31 23:59:59|  0.17192602642|           1|\n",
            "|     6|     mARlfz|2016-06-12 23:02:16|9999-12-31 23:59:59| 0.537353043526|           1|\n",
            "|     7| xO41jlAo0Y|2016-06-13 06:03:03|9999-12-31 23:59:59| 0.394370370549|           1|\n",
            "|    40|    vdwO0k1|2016-06-13 07:01:03|9999-12-31 23:59:59| 0.706832959169|           1|\n",
            "|    18|  VpF5Lrtz7|2016-06-13 12:23:36|9999-12-31 23:59:59| 0.885469892018|           1|\n",
            "|    91|  8brfgFZi6|2016-06-13 12:33:58|9999-12-31 23:59:59| 0.478092156292|           1|\n",
            "|    90|  0sicoF7Pl|2016-06-13 13:06:10|9999-12-31 23:59:59| 0.443162418548|           1|\n",
            "|    78| eGBdAiM6ti|2016-06-13 13:46:53|9999-12-31 23:59:59| 0.796923109534|           1|\n",
            "|     1| Rlwjub4jqE|2016-06-13 14:20:52|9999-12-31 23:59:59| 0.105268242757|           1|\n",
            "|    58| 0mwsnlGWqp|2016-06-13 14:37:27|9999-12-31 23:59:59|0.0806928554105|           1|\n",
            "|    32|    lFjyoVh|2016-06-13 14:51:16|9999-12-31 23:59:59| 0.276723269022|           1|\n",
            "|    25|     5WSGJw|2016-06-13 15:33:04|9999-12-31 23:59:59| 0.894528574547|           1|\n",
            "|    59|I7dtH5Ixx5o|2016-06-13 16:09:13|9999-12-31 23:59:59| 0.611500392972|           1|\n",
            "|     9|  pDG2bAh8T|2016-06-13 17:39:55|9999-12-31 23:59:59| 0.952175553216|           1|\n",
            "|    37|    q0jkZDf|2016-06-13 18:52:39|9999-12-31 23:59:59| 0.941534160791|           1|\n",
            "|     8|  5aw5S13OD|2016-06-13 19:26:05|9999-12-31 23:59:59| 0.908268818406|           1|\n",
            "|    53|  EkwgEvX3h|2016-06-13 19:36:42|9999-12-31 23:59:59| 0.237000437615|           1|\n",
            "|    94|mjKIyWQpvVy|2016-06-14 00:23:46|9999-12-31 23:59:59| 0.765548732176|           1|\n",
            "|    68| Q6MKfUUY1l|2016-06-14 00:26:33|9999-12-31 23:59:59|  0.31657918715|           1|\n",
            "+------+-----------+-------------------+-------------------+---------------+------------+\n",
            "only showing top 20 rows\n",
            "\n"
          ]
        }
      ]
    },
    {
      "cell_type": "code",
      "source": [
        "#add teamId and Strength to the new dataset\n",
        "DF_Team = DF_Team.drop('name', 'teamCreationTime', 'teamEndTime', 'currentLevel')\n",
        "DF_TeamP = DF_Team.toPandas()"
      ],
      "metadata": {
        "id": "igg5SSsfkCYu"
      },
      "execution_count": 20,
      "outputs": []
    },
    {
      "cell_type": "code",
      "source": [
        "DF_TeamP"
      ],
      "metadata": {
        "id": "SUzF1y-MkEU0",
        "colab": {
          "base_uri": "https://localhost:8080/",
          "height": 423
        },
        "outputId": "80668b79-4955-4689-cc11-77ac012dae5e"
      },
      "execution_count": 21,
      "outputs": [
        {
          "output_type": "execute_result",
          "data": {
            "text/plain": [
              "     teamId  strength\n",
              "0        79  0.774474\n",
              "1        92  0.171926\n",
              "2         6  0.537353\n",
              "3         7  0.394370\n",
              "4        40  0.706833\n",
              "..      ...       ...\n",
              "104     143  0.060460\n",
              "105     161  0.994851\n",
              "106     165  0.073988\n",
              "107     171  0.225849\n",
              "108     169  0.223408\n",
              "\n",
              "[109 rows x 2 columns]"
            ],
            "text/html": [
              "\n",
              "  <div id=\"df-8187fe42-178a-4924-9bc3-2b8900b0686a\">\n",
              "    <div class=\"colab-df-container\">\n",
              "      <div>\n",
              "<style scoped>\n",
              "    .dataframe tbody tr th:only-of-type {\n",
              "        vertical-align: middle;\n",
              "    }\n",
              "\n",
              "    .dataframe tbody tr th {\n",
              "        vertical-align: top;\n",
              "    }\n",
              "\n",
              "    .dataframe thead th {\n",
              "        text-align: right;\n",
              "    }\n",
              "</style>\n",
              "<table border=\"1\" class=\"dataframe\">\n",
              "  <thead>\n",
              "    <tr style=\"text-align: right;\">\n",
              "      <th></th>\n",
              "      <th>teamId</th>\n",
              "      <th>strength</th>\n",
              "    </tr>\n",
              "  </thead>\n",
              "  <tbody>\n",
              "    <tr>\n",
              "      <th>0</th>\n",
              "      <td>79</td>\n",
              "      <td>0.774474</td>\n",
              "    </tr>\n",
              "    <tr>\n",
              "      <th>1</th>\n",
              "      <td>92</td>\n",
              "      <td>0.171926</td>\n",
              "    </tr>\n",
              "    <tr>\n",
              "      <th>2</th>\n",
              "      <td>6</td>\n",
              "      <td>0.537353</td>\n",
              "    </tr>\n",
              "    <tr>\n",
              "      <th>3</th>\n",
              "      <td>7</td>\n",
              "      <td>0.394370</td>\n",
              "    </tr>\n",
              "    <tr>\n",
              "      <th>4</th>\n",
              "      <td>40</td>\n",
              "      <td>0.706833</td>\n",
              "    </tr>\n",
              "    <tr>\n",
              "      <th>...</th>\n",
              "      <td>...</td>\n",
              "      <td>...</td>\n",
              "    </tr>\n",
              "    <tr>\n",
              "      <th>104</th>\n",
              "      <td>143</td>\n",
              "      <td>0.060460</td>\n",
              "    </tr>\n",
              "    <tr>\n",
              "      <th>105</th>\n",
              "      <td>161</td>\n",
              "      <td>0.994851</td>\n",
              "    </tr>\n",
              "    <tr>\n",
              "      <th>106</th>\n",
              "      <td>165</td>\n",
              "      <td>0.073988</td>\n",
              "    </tr>\n",
              "    <tr>\n",
              "      <th>107</th>\n",
              "      <td>171</td>\n",
              "      <td>0.225849</td>\n",
              "    </tr>\n",
              "    <tr>\n",
              "      <th>108</th>\n",
              "      <td>169</td>\n",
              "      <td>0.223408</td>\n",
              "    </tr>\n",
              "  </tbody>\n",
              "</table>\n",
              "<p>109 rows × 2 columns</p>\n",
              "</div>\n",
              "      <button class=\"colab-df-convert\" onclick=\"convertToInteractive('df-8187fe42-178a-4924-9bc3-2b8900b0686a')\"\n",
              "              title=\"Convert this dataframe to an interactive table.\"\n",
              "              style=\"display:none;\">\n",
              "        \n",
              "  <svg xmlns=\"http://www.w3.org/2000/svg\" height=\"24px\"viewBox=\"0 0 24 24\"\n",
              "       width=\"24px\">\n",
              "    <path d=\"M0 0h24v24H0V0z\" fill=\"none\"/>\n",
              "    <path d=\"M18.56 5.44l.94 2.06.94-2.06 2.06-.94-2.06-.94-.94-2.06-.94 2.06-2.06.94zm-11 1L8.5 8.5l.94-2.06 2.06-.94-2.06-.94L8.5 2.5l-.94 2.06-2.06.94zm10 10l.94 2.06.94-2.06 2.06-.94-2.06-.94-.94-2.06-.94 2.06-2.06.94z\"/><path d=\"M17.41 7.96l-1.37-1.37c-.4-.4-.92-.59-1.43-.59-.52 0-1.04.2-1.43.59L10.3 9.45l-7.72 7.72c-.78.78-.78 2.05 0 2.83L4 21.41c.39.39.9.59 1.41.59.51 0 1.02-.2 1.41-.59l7.78-7.78 2.81-2.81c.8-.78.8-2.07 0-2.86zM5.41 20L4 18.59l7.72-7.72 1.47 1.35L5.41 20z\"/>\n",
              "  </svg>\n",
              "      </button>\n",
              "      \n",
              "  <style>\n",
              "    .colab-df-container {\n",
              "      display:flex;\n",
              "      flex-wrap:wrap;\n",
              "      gap: 12px;\n",
              "    }\n",
              "\n",
              "    .colab-df-convert {\n",
              "      background-color: #E8F0FE;\n",
              "      border: none;\n",
              "      border-radius: 50%;\n",
              "      cursor: pointer;\n",
              "      display: none;\n",
              "      fill: #1967D2;\n",
              "      height: 32px;\n",
              "      padding: 0 0 0 0;\n",
              "      width: 32px;\n",
              "    }\n",
              "\n",
              "    .colab-df-convert:hover {\n",
              "      background-color: #E2EBFA;\n",
              "      box-shadow: 0px 1px 2px rgba(60, 64, 67, 0.3), 0px 1px 3px 1px rgba(60, 64, 67, 0.15);\n",
              "      fill: #174EA6;\n",
              "    }\n",
              "\n",
              "    [theme=dark] .colab-df-convert {\n",
              "      background-color: #3B4455;\n",
              "      fill: #D2E3FC;\n",
              "    }\n",
              "\n",
              "    [theme=dark] .colab-df-convert:hover {\n",
              "      background-color: #434B5C;\n",
              "      box-shadow: 0px 1px 3px 1px rgba(0, 0, 0, 0.15);\n",
              "      filter: drop-shadow(0px 1px 2px rgba(0, 0, 0, 0.3));\n",
              "      fill: #FFFFFF;\n",
              "    }\n",
              "  </style>\n",
              "\n",
              "      <script>\n",
              "        const buttonEl =\n",
              "          document.querySelector('#df-8187fe42-178a-4924-9bc3-2b8900b0686a button.colab-df-convert');\n",
              "        buttonEl.style.display =\n",
              "          google.colab.kernel.accessAllowed ? 'block' : 'none';\n",
              "\n",
              "        async function convertToInteractive(key) {\n",
              "          const element = document.querySelector('#df-8187fe42-178a-4924-9bc3-2b8900b0686a');\n",
              "          const dataTable =\n",
              "            await google.colab.kernel.invokeFunction('convertToInteractive',\n",
              "                                                     [key], {});\n",
              "          if (!dataTable) return;\n",
              "\n",
              "          const docLinkHtml = 'Like what you see? Visit the ' +\n",
              "            '<a target=\"_blank\" href=https://colab.research.google.com/notebooks/data_table.ipynb>data table notebook</a>'\n",
              "            + ' to learn more about interactive tables.';\n",
              "          element.innerHTML = '';\n",
              "          dataTable['output_type'] = 'display_data';\n",
              "          await google.colab.output.renderOutput(dataTable, element);\n",
              "          const docLink = document.createElement('div');\n",
              "          docLink.innerHTML = docLinkHtml;\n",
              "          element.appendChild(docLink);\n",
              "        }\n",
              "      </script>\n",
              "    </div>\n",
              "  </div>\n",
              "  "
            ]
          },
          "metadata": {},
          "execution_count": 21
        }
      ]
    },
    {
      "cell_type": "code",
      "source": [
        "DF_NewP = DF_New.toPandas()"
      ],
      "metadata": {
        "id": "KaxbzBedkH43"
      },
      "execution_count": 22,
      "outputs": []
    },
    {
      "cell_type": "code",
      "source": [
        "#add teamId and Strength to the new dataset\n",
        "CurrentDF = pd.merge(DF_NewP, DF_TeamP, how='outer', suffixes=('', '_drop'))"
      ],
      "metadata": {
        "id": "5N-VB2lNkNKF"
      },
      "execution_count": 23,
      "outputs": []
    },
    {
      "cell_type": "code",
      "source": [
        "CurrentDF"
      ],
      "metadata": {
        "id": "F7p3ee5vkOKF"
      },
      "execution_count": null,
      "outputs": []
    },
    {
      "cell_type": "code",
      "source": [
        "#combine the newest dataset with isHit and ClickID\n",
        "DF_Game = pd.read_csv ('/content/game-clicks.csv')\n",
        "DF_Game = DF_Game.rename(columns=lambda x: x.strip()) #removes whitespaces from headers if exists\n",
        "DF_Game = DF_Game.groupby(['userId'],as_index=False).agg({'isHit':'sum', 'clickId':'count'})\n",
        "DF_Combined = pd.merge(CurrentDF, DF_Game, how='outer', suffixes=('', '_drop'))"
      ],
      "metadata": {
        "id": "jQg7eJLnkRKA"
      },
      "execution_count": 25,
      "outputs": []
    },
    {
      "cell_type": "code",
      "source": [
        "#insert price and buyid from the buy-clicks file to DF-combined\n",
        "\n",
        "DF_BuyClicks = pd.read_csv ('/content/buy-clicks.csv')\n",
        "DF_BuyClicks = DF_BuyClicks.groupby(['userId'],as_index=False).agg({'price':'sum', 'buyId':'count'})\n",
        "\n",
        "DF = pd.merge(DF_Combined, DF_BuyClicks, how='outer', suffixes=('', '_drop'))"
      ],
      "metadata": {
        "id": "LsOgxJXDkWA1"
      },
      "execution_count": 26,
      "outputs": []
    },
    {
      "cell_type": "code",
      "source": [
        "#combine the add clicks file\n",
        "DF_AdClick = pd.read_csv ('/content/ad-clicks.csv')\n",
        "DF_AdClick = DF_AdClick.groupby(['userId'],as_index=False).agg({'adId':'count'})\n",
        "\n",
        "DF = pd.merge(DF, DF_AdClick, how='outer', suffixes=('', '_drop'))"
      ],
      "metadata": {
        "id": "1UWt1UGlkYmd"
      },
      "execution_count": 27,
      "outputs": []
    },
    {
      "cell_type": "code",
      "source": [
        "#Drop the duplicate columns\n",
        "DF.drop([col for col in DF.columns if 'drop' in col], axis=1, inplace=True)\n",
        "\n",
        "DF = DF[DF['userId'].notna()]"
      ],
      "metadata": {
        "id": "qBIEhw2fkbVk"
      },
      "execution_count": 28,
      "outputs": []
    },
    {
      "cell_type": "code",
      "source": [
        "#view new dataset\n",
        "DF.head()"
      ],
      "metadata": {
        "id": "inDuhJalkeLO"
      },
      "execution_count": null,
      "outputs": []
    },
    {
      "cell_type": "code",
      "source": [
        "#rename the final DF data columns\n",
        "DF = DF.rename(columns={'price': 'total_purchases_amount',\n",
        "                                                'clickId': 'game_clicks_count',\n",
        "                                                'isHit': 'hit_count' ,\n",
        "                                                'buyId': 'purchases_count',\n",
        "                                                'adId': 'ad_clicks_count'\n",
        "                                                })"
      ],
      "metadata": {
        "id": "5iC28keskg58"
      },
      "execution_count": 30,
      "outputs": []
    },
    {
      "cell_type": "code",
      "source": [
        "#insert the bought_items column and set it to 1, where purchases_count > 0 \n",
        "DF['bought_items'] = np.where(DF['purchases_count'] >= 1, 1, 0)"
      ],
      "metadata": {
        "id": "w3U-yrJrkkgV"
      },
      "execution_count": 31,
      "outputs": []
    },
    {
      "cell_type": "code",
      "source": [
        "# delete redundant columns\n",
        "del DF['nick']\n",
        "del DF['twitter']"
      ],
      "metadata": {
        "id": "tfaHZSLxkoAc"
      },
      "execution_count": 32,
      "outputs": []
    },
    {
      "cell_type": "code",
      "source": [
        "# replace NA Values:\n",
        "\n",
        "DF['platformType']=DF['platformType'].fillna('No Platform')\n",
        "DF['country']=DF['country'].fillna('No country')\n",
        "DF['teamId']=DF['teamId'].fillna(0)\n",
        "DF['strength']=DF['strength'].fillna(0)\n",
        "DF['total_purchases_amount']=DF['total_purchases_amount'].fillna(0)\n",
        "DF['purchases_count']=DF['purchases_count'].fillna(0)\n",
        "DF['hit_count']=DF['hit_count'].fillna(0)\n",
        "DF['game_clicks_count']=DF['game_clicks_count'].fillna(0)\n",
        "DF['ad_clicks_count']=DF['ad_clicks_count'].fillna(0)\n",
        "DF['age']=DF['ad_clicks_count'].fillna(0)\n",
        "DF['timestamp']=DF['timestamp'].fillna(0)"
      ],
      "metadata": {
        "id": "zCYix0ebko3b"
      },
      "execution_count": 33,
      "outputs": []
    },
    {
      "cell_type": "code",
      "source": [
        "# Changing data type from float to int for features that are Ids or counts features:\n",
        "    \n",
        "DF['teamId'] = DF['teamId'].astype('Int64')\n",
        "DF['userId'] = DF['userId'].astype('Int64')\n",
        "DF['purchases_count'] = DF['purchases_count'].astype('Int64')\n",
        "DF['hit_count'] = DF['hit_count'].astype('Int64')\n",
        "DF['game_clicks_count'] = DF['purchases_count'].astype('Int64')\n",
        "DF['ad_clicks_count'] = DF['hit_count'].astype('Int64')\n",
        "DF['age'] = DF['age'].astype('Int64')"
      ],
      "metadata": {
        "id": "aT8Ap2MHkrkm"
      },
      "execution_count": 34,
      "outputs": []
    },
    {
      "cell_type": "code",
      "source": [
        "#show dataobjects\n",
        "DF.isna().any()"
      ],
      "metadata": {
        "id": "twQfTPfrkt4N"
      },
      "execution_count": null,
      "outputs": []
    },
    {
      "cell_type": "code",
      "source": [
        "#remove duplicate records\n",
        "DF.duplicated(subset='userId').sum()\n",
        "DF.shape"
      ],
      "metadata": {
        "colab": {
          "base_uri": "https://localhost:8080/"
        },
        "id": "bAT-Tu-4kxwt",
        "outputId": "79a2bfdb-263e-42c4-de7d-0d47ca72f6d8"
      },
      "execution_count": 36,
      "outputs": [
        {
          "output_type": "execute_result",
          "data": {
            "text/plain": [
              "(9350, 13)"
            ]
          },
          "metadata": {},
          "execution_count": 36
        }
      ]
    },
    {
      "cell_type": "code",
      "source": [
        "#drop duplicates\n",
        "DF = DF.drop_duplicates(['userId']).reset_index(drop=True)"
      ],
      "metadata": {
        "id": "WNI5TiiAk0ec"
      },
      "execution_count": 37,
      "outputs": []
    },
    {
      "cell_type": "code",
      "source": [
        "# remove instances of users who never interacted with the game at all\n",
        "DF = DF.drop(DF[(DF['teamId'] == 0) & (DF['strength'] == 0) & (DF['game_clicks_count'] == 0) & (DF['purchases_count'] == 0)].index)\n",
        "DF.shape "
      ],
      "metadata": {
        "colab": {
          "base_uri": "https://localhost:8080/"
        },
        "id": "h-Q6dqI0k2kt",
        "outputId": "d4ee3d01-5fd8-420f-c108-e4fbf0842268"
      },
      "execution_count": 38,
      "outputs": [
        {
          "output_type": "execute_result",
          "data": {
            "text/plain": [
              "(1108, 13)"
            ]
          },
          "metadata": {},
          "execution_count": 38
        }
      ]
    },
    {
      "cell_type": "code",
      "source": [
        "# Check if there is a bias in the bought_items feature:\n",
        "DF.groupby('bought_items')['userId'].count()"
      ],
      "metadata": {
        "colab": {
          "base_uri": "https://localhost:8080/"
        },
        "id": "ELERUR-ak4oE",
        "outputId": "2095d302-5e06-41ef-fdd0-b06ef89ab89c"
      },
      "execution_count": 39,
      "outputs": [
        {
          "output_type": "execute_result",
          "data": {
            "text/plain": [
              "bought_items\n",
              "0    562\n",
              "1    546\n",
              "Name: userId, dtype: int64"
            ]
          },
          "metadata": {},
          "execution_count": 39
        }
      ]
    },
    {
      "cell_type": "code",
      "source": [
        "#show users hit counts\n",
        "HitCount = DF[\"hit_count\"].value_counts()\n",
        "HitCount = pd.DataFrame(HitCount)\n",
        "HitCount"
      ],
      "metadata": {
        "id": "2rYWKqOak7Ft"
      },
      "execution_count": null,
      "outputs": []
    },
    {
      "cell_type": "code",
      "source": [
        "#showing the relationship between the platformType used by users to play the game\n",
        "PlatformPlot = DF[\"platformType\"].value_counts()\n",
        "PlatformPlot = pd.DataFrame(PlatformPlot)\n",
        "PlatformPlot"
      ],
      "metadata": {
        "colab": {
          "base_uri": "https://localhost:8080/",
          "height": 237
        },
        "id": "lMNoWwrNlDCd",
        "outputId": "786bb2e4-2e6f-49ed-9c68-3b1093573076"
      },
      "execution_count": 41,
      "outputs": [
        {
          "output_type": "execute_result",
          "data": {
            "text/plain": [
              "             platformType\n",
              "iphone                444\n",
              "android               391\n",
              "windows               151\n",
              "linux                  55\n",
              "mac                    52\n",
              "No Platform            15"
            ],
            "text/html": [
              "\n",
              "  <div id=\"df-8868ec9b-67d5-45c1-af9e-6fe44073dbf7\">\n",
              "    <div class=\"colab-df-container\">\n",
              "      <div>\n",
              "<style scoped>\n",
              "    .dataframe tbody tr th:only-of-type {\n",
              "        vertical-align: middle;\n",
              "    }\n",
              "\n",
              "    .dataframe tbody tr th {\n",
              "        vertical-align: top;\n",
              "    }\n",
              "\n",
              "    .dataframe thead th {\n",
              "        text-align: right;\n",
              "    }\n",
              "</style>\n",
              "<table border=\"1\" class=\"dataframe\">\n",
              "  <thead>\n",
              "    <tr style=\"text-align: right;\">\n",
              "      <th></th>\n",
              "      <th>platformType</th>\n",
              "    </tr>\n",
              "  </thead>\n",
              "  <tbody>\n",
              "    <tr>\n",
              "      <th>iphone</th>\n",
              "      <td>444</td>\n",
              "    </tr>\n",
              "    <tr>\n",
              "      <th>android</th>\n",
              "      <td>391</td>\n",
              "    </tr>\n",
              "    <tr>\n",
              "      <th>windows</th>\n",
              "      <td>151</td>\n",
              "    </tr>\n",
              "    <tr>\n",
              "      <th>linux</th>\n",
              "      <td>55</td>\n",
              "    </tr>\n",
              "    <tr>\n",
              "      <th>mac</th>\n",
              "      <td>52</td>\n",
              "    </tr>\n",
              "    <tr>\n",
              "      <th>No Platform</th>\n",
              "      <td>15</td>\n",
              "    </tr>\n",
              "  </tbody>\n",
              "</table>\n",
              "</div>\n",
              "      <button class=\"colab-df-convert\" onclick=\"convertToInteractive('df-8868ec9b-67d5-45c1-af9e-6fe44073dbf7')\"\n",
              "              title=\"Convert this dataframe to an interactive table.\"\n",
              "              style=\"display:none;\">\n",
              "        \n",
              "  <svg xmlns=\"http://www.w3.org/2000/svg\" height=\"24px\"viewBox=\"0 0 24 24\"\n",
              "       width=\"24px\">\n",
              "    <path d=\"M0 0h24v24H0V0z\" fill=\"none\"/>\n",
              "    <path d=\"M18.56 5.44l.94 2.06.94-2.06 2.06-.94-2.06-.94-.94-2.06-.94 2.06-2.06.94zm-11 1L8.5 8.5l.94-2.06 2.06-.94-2.06-.94L8.5 2.5l-.94 2.06-2.06.94zm10 10l.94 2.06.94-2.06 2.06-.94-2.06-.94-.94-2.06-.94 2.06-2.06.94z\"/><path d=\"M17.41 7.96l-1.37-1.37c-.4-.4-.92-.59-1.43-.59-.52 0-1.04.2-1.43.59L10.3 9.45l-7.72 7.72c-.78.78-.78 2.05 0 2.83L4 21.41c.39.39.9.59 1.41.59.51 0 1.02-.2 1.41-.59l7.78-7.78 2.81-2.81c.8-.78.8-2.07 0-2.86zM5.41 20L4 18.59l7.72-7.72 1.47 1.35L5.41 20z\"/>\n",
              "  </svg>\n",
              "      </button>\n",
              "      \n",
              "  <style>\n",
              "    .colab-df-container {\n",
              "      display:flex;\n",
              "      flex-wrap:wrap;\n",
              "      gap: 12px;\n",
              "    }\n",
              "\n",
              "    .colab-df-convert {\n",
              "      background-color: #E8F0FE;\n",
              "      border: none;\n",
              "      border-radius: 50%;\n",
              "      cursor: pointer;\n",
              "      display: none;\n",
              "      fill: #1967D2;\n",
              "      height: 32px;\n",
              "      padding: 0 0 0 0;\n",
              "      width: 32px;\n",
              "    }\n",
              "\n",
              "    .colab-df-convert:hover {\n",
              "      background-color: #E2EBFA;\n",
              "      box-shadow: 0px 1px 2px rgba(60, 64, 67, 0.3), 0px 1px 3px 1px rgba(60, 64, 67, 0.15);\n",
              "      fill: #174EA6;\n",
              "    }\n",
              "\n",
              "    [theme=dark] .colab-df-convert {\n",
              "      background-color: #3B4455;\n",
              "      fill: #D2E3FC;\n",
              "    }\n",
              "\n",
              "    [theme=dark] .colab-df-convert:hover {\n",
              "      background-color: #434B5C;\n",
              "      box-shadow: 0px 1px 3px 1px rgba(0, 0, 0, 0.15);\n",
              "      filter: drop-shadow(0px 1px 2px rgba(0, 0, 0, 0.3));\n",
              "      fill: #FFFFFF;\n",
              "    }\n",
              "  </style>\n",
              "\n",
              "      <script>\n",
              "        const buttonEl =\n",
              "          document.querySelector('#df-8868ec9b-67d5-45c1-af9e-6fe44073dbf7 button.colab-df-convert');\n",
              "        buttonEl.style.display =\n",
              "          google.colab.kernel.accessAllowed ? 'block' : 'none';\n",
              "\n",
              "        async function convertToInteractive(key) {\n",
              "          const element = document.querySelector('#df-8868ec9b-67d5-45c1-af9e-6fe44073dbf7');\n",
              "          const dataTable =\n",
              "            await google.colab.kernel.invokeFunction('convertToInteractive',\n",
              "                                                     [key], {});\n",
              "          if (!dataTable) return;\n",
              "\n",
              "          const docLinkHtml = 'Like what you see? Visit the ' +\n",
              "            '<a target=\"_blank\" href=https://colab.research.google.com/notebooks/data_table.ipynb>data table notebook</a>'\n",
              "            + ' to learn more about interactive tables.';\n",
              "          element.innerHTML = '';\n",
              "          dataTable['output_type'] = 'display_data';\n",
              "          await google.colab.output.renderOutput(dataTable, element);\n",
              "          const docLink = document.createElement('div');\n",
              "          docLink.innerHTML = docLinkHtml;\n",
              "          element.appendChild(docLink);\n",
              "        }\n",
              "      </script>\n",
              "    </div>\n",
              "  </div>\n",
              "  "
            ]
          },
          "metadata": {},
          "execution_count": 41
        }
      ]
    },
    {
      "cell_type": "markdown",
      "source": [
        "**ACTIVITY COUNT ON DIFFERENT PLATFORM**"
      ],
      "metadata": {
        "id": "5isPnpQhlUhi"
      }
    },
    {
      "cell_type": "code",
      "source": [
        "\n",
        "#Setting the style for a more modern look\n",
        "sns.set_style(\"whitegrid\")\n",
        "\n",
        "#Plotting the relationship between platform type and activity count\n",
        "plt.figure(figsize=(10, 6)) # Adjust the figure size as needed\n",
        "sns.barplot(x=\"platformType\", y=PlatformPlot.index, data=PlatformPlot, palette=\"PuRd\")\n",
        "\n",
        "#Customizing the plot\n",
        "plt.xlabel(\"Platform Type\")\n",
        "plt.ylabel(\"Activity Count\")\n",
        "plt.title(\"Relationship between Platform Type and Activity Count\")\n",
        "plt.xticks(rotation=45) # Rotating x-axis labels if needed\n",
        "\n",
        "#Removing the spines\n",
        "sns.despine()\n",
        "\n",
        "#Displaying the plot\n",
        "plt.show()"
      ],
      "metadata": {
        "colab": {
          "base_uri": "https://localhost:8080/",
          "height": 550
        },
        "id": "KEK-NzLdlGqF",
        "outputId": "fa4aa6a3-3d62-4882-fdf1-5fedb9aac8c3"
      },
      "execution_count": 42,
      "outputs": [
        {
          "output_type": "display_data",
          "data": {
            "text/plain": [
              "<Figure size 1000x600 with 1 Axes>"
            ],
            "image/png": "[encoded data removed]"
          },
          "metadata": {}
        }
      ]
    },
    {
      "cell_type": "markdown",
      "source": [
        "**TOTAL PURCHASE COUNT USING DIFFERENT PLATFORM**"
      ],
      "metadata": {
        "id": "Z3qOdPp4lf7y"
      }
    },
    {
      "cell_type": "code",
      "source": [
        "#Total Purchase count using different platforms\n",
        "sns.barplot(x=\"total_purchases_amount\", y=\"platformType\", data=DF, color=\"purple\")\n"
      ],
      "metadata": {
        "colab": {
          "base_uri": "https://localhost:8080/",
          "height": 522
        },
        "id": "RAwNRqCeleIB",
        "outputId": "518940bf-3160-4ef0-ceb5-1089ca69a8e5"
      },
      "execution_count": 43,
      "outputs": [
        {
          "output_type": "execute_result",
          "data": {
            "text/plain": [
              "<Axes: xlabel='total_purchases_amount', ylabel='platformType'>"
            ]
          },
          "metadata": {},
          "execution_count": 43
        },
        {
          "output_type": "display_data",
          "data": {
            "text/plain": [
              "<Figure size 800x550 with 1 Axes>"
            ],
            "image/png": "[encoded data removed]"
          },
          "metadata": {}
        }
      ]
    },
    {
      "cell_type": "markdown",
      "source": [
        "**TOP 3 USERS WITH HIGHEST HITS**"
      ],
      "metadata": {
        "id": "7Z1V8DNhl4BZ"
      }
    },
    {
      "cell_type": "code",
      "source": [
        "import pandas as pd\n",
        "\n",
        "# Grouping the users by hit count and calculating the sum of userId\n",
        "Hcount = DF.groupby('hit_count').sum()['userId'].sort_values(ascending=False)\n",
        "\n",
        "# Creating a DataFrame from the Hcount series\n",
        "table = pd.DataFrame({'Hit Count': Hcount.index, 'User Count': Hcount.values})\n",
        "\n",
        "\n"
      ],
      "metadata": {
        "id": "BVHF9W8alsKd"
      },
      "execution_count": null,
      "outputs": []
    },
    {
      "cell_type": "code",
      "source": [
        "import seaborn as sns\n",
        "import matplotlib.pyplot as plt\n",
        "\n",
        "#Grouping the users by hit count and calculating the sum of userId\n",
        "Hcount = DF.groupby('hit_count').sum()['userId'].sort_values(ascending=False)\n",
        "\n",
        "#Selecting the top 3 users\n",
        "top_users = Hcount.head(3)\n",
        "\n",
        "#Setting the style for a more professional look\n",
        "sns.set(style=\"whitegrid\", font_scale=1.2)\n",
        "\n",
        "#Defining a custom color palette\n",
        "colors = [\"#4c72b0\", \"#55a868\", \"#c44e52\"]\n",
        "\n",
        "#Plotting the top 3 users with the highest hit counts\n",
        "plt.figure(figsize=(8, 6)) # Adjust the figure size as needed\n",
        "sns.barplot(x=top_users.index, y=top_users.values, palette=colors)\n",
        "\n",
        "#Customizing the plot\n",
        "plt.xlabel(\"User\")\n",
        "plt.ylabel(\"Hit Count\")\n",
        "plt.title(\"Top 3 Users with Highest Hit Counts\")\n",
        "\n",
        "#Removing the spines\n",
        "sns.despine()\n",
        "\n",
        "#Displaying the plot\n",
        "plt.show()"
      ],
      "metadata": {
        "colab": {
          "base_uri": "https://localhost:8080/",
          "height": 637
        },
        "id": "XTVjCGVymIOV",
        "outputId": "0c580b0f-0be3-4db1-d742-459051fb666f"
      },
      "execution_count": 46,
      "outputs": [
        {
          "output_type": "stream",
          "name": "stderr",
          "text": [
            "<ipython-input-46-bf4c772e64ce>:5: FutureWarning: The default value of numeric_only in DataFrameGroupBy.sum is deprecated. In a future version, numeric_only will default to False. Either specify numeric_only or select only columns which should be valid for the function.\n",
            "  Hcount = DF.groupby('hit_count').sum()['userId'].sort_values(ascending=False)\n"
          ]
        },
        {
          "output_type": "display_data",
          "data": {
            "text/plain": [
              "<Figure size 800x600 with 1 Axes>"
            ],
            "image/png": "[encoded data removed]"
          },
          "metadata": {}
        }
      ]
    },
    {
      "cell_type": "code",
      "source": [
        "#show the data summary\n",
        "showSummary = DF.describe()\n",
        "showSummary = showSummary.T\n",
        "showSummary"
      ],
      "metadata": {
        "colab": {
          "base_uri": "https://localhost:8080/",
          "height": 363
        },
        "id": "4Fjh-bUQmKpF",
        "outputId": "303e7ef1-b584-462d-cbd3-43a730c8a505"
      },
      "execution_count": 48,
      "outputs": [
        {
          "output_type": "execute_result",
          "data": {
            "text/plain": [
              "                         count         mean        std  min     25%     50%  \\\n",
              "userId                  1108.0  1194.847473  692.33542  0.0  590.75  1195.0   \n",
              "age                     1108.0    14.661552   18.02638  0.0     0.0     4.0   \n",
              "teamId                  1108.0    79.798736  44.888018  0.0    44.0    77.0   \n",
              "strength                1108.0      0.33016   0.337253  0.0     0.0   0.237   \n",
              "hit_count               1108.0    74.758123  65.613519  1.0    31.0    59.0   \n",
              "game_clicks_count       1108.0     2.659747   3.533901  0.0     0.0     0.0   \n",
              "total_purchases_amount  1108.0    19.320397  34.905748  0.0     0.0     0.0   \n",
              "purchases_count         1108.0     2.659747   3.533901  0.0     0.0     0.0   \n",
              "ad_clicks_count         1108.0    74.758123  65.613519  1.0    31.0    59.0   \n",
              "bought_items            1108.0      0.49278   0.500174  0.0     0.0     0.0   \n",
              "\n",
              "                            75%       max  \n",
              "userId                  1782.25    2389.0  \n",
              "age                        30.0      67.0  \n",
              "teamId                    116.0     179.0  \n",
              "strength                 0.6115  0.952176  \n",
              "hit_count                  95.0     517.0  \n",
              "game_clicks_count           5.0      16.0  \n",
              "total_purchases_amount     25.0     223.0  \n",
              "purchases_count             5.0      16.0  \n",
              "ad_clicks_count            95.0     517.0  \n",
              "bought_items                1.0       1.0  "
            ],
            "text/html": [
              "\n",
              "  <div id=\"df-aef3a0c5-0c9e-41fc-85d0-b8267f4b774a\">\n",
              "    <div class=\"colab-df-container\">\n",
              "      <div>\n",
              "<style scoped>\n",
              "    .dataframe tbody tr th:only-of-type {\n",
              "        vertical-align: middle;\n",
              "    }\n",
              "\n",
              "    .dataframe tbody tr th {\n",
              "        vertical-align: top;\n",
              "    }\n",
              "\n",
              "    .dataframe thead th {\n",
              "        text-align: right;\n",
              "    }\n",
              "</style>\n",
              "<table border=\"1\" class=\"dataframe\">\n",
              "  <thead>\n",
              "    <tr style=\"text-align: right;\">\n",
              "      <th></th>\n",
              "      <th>count</th>\n",
              "      <th>mean</th>\n",
              "      <th>std</th>\n",
              "      <th>min</th>\n",
              "      <th>25%</th>\n",
              "      <th>50%</th>\n",
              "      <th>75%</th>\n",
              "      <th>max</th>\n",
              "    </tr>\n",
              "  </thead>\n",
              "  <tbody>\n",
              "    <tr>\n",
              "      <th>userId</th>\n",
              "      <td>1108.0</td>\n",
              "      <td>1194.847473</td>\n",
              "      <td>692.33542</td>\n",
              "      <td>0.0</td>\n",
              "      <td>590.75</td>\n",
              "      <td>1195.0</td>\n",
              "      <td>1782.25</td>\n",
              "      <td>2389.0</td>\n",
              "    </tr>\n",
              "    <tr>\n",
              "      <th>age</th>\n",
              "      <td>1108.0</td>\n",
              "      <td>14.661552</td>\n",
              "      <td>18.02638</td>\n",
              "      <td>0.0</td>\n",
              "      <td>0.0</td>\n",
              "      <td>4.0</td>\n",
              "      <td>30.0</td>\n",
              "      <td>67.0</td>\n",
              "    </tr>\n",
              "    <tr>\n",
              "      <th>teamId</th>\n",
              "      <td>1108.0</td>\n",
              "      <td>79.798736</td>\n",
              "      <td>44.888018</td>\n",
              "      <td>0.0</td>\n",
              "      <td>44.0</td>\n",
              "      <td>77.0</td>\n",
              "      <td>116.0</td>\n",
              "      <td>179.0</td>\n",
              "    </tr>\n",
              "    <tr>\n",
              "      <th>strength</th>\n",
              "      <td>1108.0</td>\n",
              "      <td>0.33016</td>\n",
              "      <td>0.337253</td>\n",
              "      <td>0.0</td>\n",
              "      <td>0.0</td>\n",
              "      <td>0.237</td>\n",
              "      <td>0.6115</td>\n",
              "      <td>0.952176</td>\n",
              "    </tr>\n",
              "    <tr>\n",
              "      <th>hit_count</th>\n",
              "      <td>1108.0</td>\n",
              "      <td>74.758123</td>\n",
              "      <td>65.613519</td>\n",
              "      <td>1.0</td>\n",
              "      <td>31.0</td>\n",
              "      <td>59.0</td>\n",
              "      <td>95.0</td>\n",
              "      <td>517.0</td>\n",
              "    </tr>\n",
              "    <tr>\n",
              "      <th>game_clicks_count</th>\n",
              "      <td>1108.0</td>\n",
              "      <td>2.659747</td>\n",
              "      <td>3.533901</td>\n",
              "      <td>0.0</td>\n",
              "      <td>0.0</td>\n",
              "      <td>0.0</td>\n",
              "      <td>5.0</td>\n",
              "      <td>16.0</td>\n",
              "    </tr>\n",
              "    <tr>\n",
              "      <th>total_purchases_amount</th>\n",
              "      <td>1108.0</td>\n",
              "      <td>19.320397</td>\n",
              "      <td>34.905748</td>\n",
              "      <td>0.0</td>\n",
              "      <td>0.0</td>\n",
              "      <td>0.0</td>\n",
              "      <td>25.0</td>\n",
              "      <td>223.0</td>\n",
              "    </tr>\n",
              "    <tr>\n",
              "      <th>purchases_count</th>\n",
              "      <td>1108.0</td>\n",
              "      <td>2.659747</td>\n",
              "      <td>3.533901</td>\n",
              "      <td>0.0</td>\n",
              "      <td>0.0</td>\n",
              "      <td>0.0</td>\n",
              "      <td>5.0</td>\n",
              "      <td>16.0</td>\n",
              "    </tr>\n",
              "    <tr>\n",
              "      <th>ad_clicks_count</th>\n",
              "      <td>1108.0</td>\n",
              "      <td>74.758123</td>\n",
              "      <td>65.613519</td>\n",
              "      <td>1.0</td>\n",
              "      <td>31.0</td>\n",
              "      <td>59.0</td>\n",
              "      <td>95.0</td>\n",
              "      <td>517.0</td>\n",
              "    </tr>\n",
              "    <tr>\n",
              "      <th>bought_items</th>\n",
              "      <td>1108.0</td>\n",
              "      <td>0.49278</td>\n",
              "      <td>0.500174</td>\n",
              "      <td>0.0</td>\n",
              "      <td>0.0</td>\n",
              "      <td>0.0</td>\n",
              "      <td>1.0</td>\n",
              "      <td>1.0</td>\n",
              "    </tr>\n",
              "  </tbody>\n",
              "</table>\n",
              "</div>\n",
              "      <button class=\"colab-df-convert\" onclick=\"convertToInteractive('df-aef3a0c5-0c9e-41fc-85d0-b8267f4b774a')\"\n",
              "              title=\"Convert this dataframe to an interactive table.\"\n",
              "              style=\"display:none;\">\n",
              "        \n",
              "  <svg xmlns=\"http://www.w3.org/2000/svg\" height=\"24px\"viewBox=\"0 0 24 24\"\n",
              "       width=\"24px\">\n",
              "    <path d=\"M0 0h24v24H0V0z\" fill=\"none\"/>\n",
              "    <path d=\"M18.56 5.44l.94 2.06.94-2.06 2.06-.94-2.06-.94-.94-2.06-.94 2.06-2.06.94zm-11 1L8.5 8.5l.94-2.06 2.06-.94-2.06-.94L8.5 2.5l-.94 2.06-2.06.94zm10 10l.94 2.06.94-2.06 2.06-.94-2.06-.94-.94-2.06-.94 2.06-2.06.94z\"/><path d=\"M17.41 7.96l-1.37-1.37c-.4-.4-.92-.59-1.43-.59-.52 0-1.04.2-1.43.59L10.3 9.45l-7.72 7.72c-.78.78-.78 2.05 0 2.83L4 21.41c.39.39.9.59 1.41.59.51 0 1.02-.2 1.41-.59l7.78-7.78 2.81-2.81c.8-.78.8-2.07 0-2.86zM5.41 20L4 18.59l7.72-7.72 1.47 1.35L5.41 20z\"/>\n",
              "  </svg>\n",
              "      </button>\n",
              "      \n",
              "  <style>\n",
              "    .colab-df-container {\n",
              "      display:flex;\n",
              "      flex-wrap:wrap;\n",
              "      gap: 12px;\n",
              "    }\n",
              "\n",
              "    .colab-df-convert {\n",
              "      background-color: #E8F0FE;\n",
              "      border: none;\n",
              "      border-radius: 50%;\n",
              "      cursor: pointer;\n",
              "      display: none;\n",
              "      fill: #1967D2;\n",
              "      height: 32px;\n",
              "      padding: 0 0 0 0;\n",
              "      width: 32px;\n",
              "    }\n",
              "\n",
              "    .colab-df-convert:hover {\n",
              "      background-color: #E2EBFA;\n",
              "      box-shadow: 0px 1px 2px rgba(60, 64, 67, 0.3), 0px 1px 3px 1px rgba(60, 64, 67, 0.15);\n",
              "      fill: #174EA6;\n",
              "    }\n",
              "\n",
              "    [theme=dark] .colab-df-convert {\n",
              "      background-color: #3B4455;\n",
              "      fill: #D2E3FC;\n",
              "    }\n",
              "\n",
              "    [theme=dark] .colab-df-convert:hover {\n",
              "      background-color: #434B5C;\n",
              "      box-shadow: 0px 1px 3px 1px rgba(0, 0, 0, 0.15);\n",
              "      filter: drop-shadow(0px 1px 2px rgba(0, 0, 0, 0.3));\n",
              "      fill: #FFFFFF;\n",
              "    }\n",
              "  </style>\n",
              "\n",
              "      <script>\n",
              "        const buttonEl =\n",
              "          document.querySelector('#df-aef3a0c5-0c9e-41fc-85d0-b8267f4b774a button.colab-df-convert');\n",
              "        buttonEl.style.display =\n",
              "          google.colab.kernel.accessAllowed ? 'block' : 'none';\n",
              "\n",
              "        async function convertToInteractive(key) {\n",
              "          const element = document.querySelector('#df-aef3a0c5-0c9e-41fc-85d0-b8267f4b774a');\n",
              "          const dataTable =\n",
              "            await google.colab.kernel.invokeFunction('convertToInteractive',\n",
              "                                                     [key], {});\n",
              "          if (!dataTable) return;\n",
              "\n",
              "          const docLinkHtml = 'Like what you see? Visit the ' +\n",
              "            '<a target=\"_blank\" href=https://colab.research.google.com/notebooks/data_table.ipynb>data table notebook</a>'\n",
              "            + ' to learn more about interactive tables.';\n",
              "          element.innerHTML = '';\n",
              "          dataTable['output_type'] = 'display_data';\n",
              "          await google.colab.output.renderOutput(dataTable, element);\n",
              "          const docLink = document.createElement('div');\n",
              "          docLink.innerHTML = docLinkHtml;\n",
              "          element.appendChild(docLink);\n",
              "        }\n",
              "      </script>\n",
              "    </div>\n",
              "  </div>\n",
              "  "
            ]
          },
          "metadata": {},
          "execution_count": 48
        }
      ]
    },
    {
      "cell_type": "code",
      "source": [
        "plat_group = DF.groupby ('platformType').mean()\n",
        "plat_group"
      ],
      "metadata": {
        "colab": {
          "base_uri": "https://localhost:8080/",
          "height": 367
        },
        "id": "I0Lms6VhmTcE",
        "outputId": "88f75be4-39b9-4956-8e91-f65a75fe9aeb"
      },
      "execution_count": 49,
      "outputs": [
        {
          "output_type": "stream",
          "name": "stderr",
          "text": [
            "<ipython-input-49-afba333b9796>:1: FutureWarning: The default value of numeric_only in DataFrameGroupBy.mean is deprecated. In a future version, numeric_only will default to False. Either specify numeric_only or select only columns which should be valid for the function.\n",
            "  plat_group = DF.groupby ('platformType').mean()\n"
          ]
        },
        {
          "output_type": "execute_result",
          "data": {
            "text/plain": [
              "                   userId        age     teamId  strength  hit_count  \\\n",
              "platformType                                                           \n",
              "No Platform        1055.0   3.133333        0.0  0.000000   9.466667   \n",
              "android       1215.826087  14.757033  82.117647  0.338865  75.749361   \n",
              "iphone        1189.968468  14.768018  78.849099  0.346807  74.849099   \n",
              "linux         1189.909091       18.4  84.854545  0.275721  92.545455   \n",
              "mac           1165.980769  10.538462  85.519231  0.354300  66.538462   \n",
              "windows       1180.503311  15.304636  80.701987  0.302983  74.761589   \n",
              "\n",
              "              game_clicks_count  total_purchases_amount  purchases_count  \\\n",
              "platformType                                                               \n",
              "No Platform            1.466667               13.600000         1.466667   \n",
              "android                2.667519               10.772379         2.667519   \n",
              "iphone                  2.61036               34.306306          2.61036   \n",
              "linux                  3.490909                4.636364         3.490909   \n",
              "mac                    1.980769                9.634615         1.980769   \n",
              "windows                2.834437                6.642384         2.834437   \n",
              "\n",
              "              ad_clicks_count  bought_items  \n",
              "platformType                                 \n",
              "No Platform          9.466667      1.000000  \n",
              "android             75.749361      0.470588  \n",
              "iphone              74.849099      0.486486  \n",
              "linux               92.545455      0.563636  \n",
              "mac                 66.538462      0.480769  \n",
              "windows             74.761589      0.496689  "
            ],
            "text/html": [
              "\n",
              "  <div id=\"df-47565792-e908-474d-91f0-cfa53275685a\">\n",
              "    <div class=\"colab-df-container\">\n",
              "      <div>\n",
              "<style scoped>\n",
              "    .dataframe tbody tr th:only-of-type {\n",
              "        vertical-align: middle;\n",
              "    }\n",
              "\n",
              "    .dataframe tbody tr th {\n",
              "        vertical-align: top;\n",
              "    }\n",
              "\n",
              "    .dataframe thead th {\n",
              "        text-align: right;\n",
              "    }\n",
              "</style>\n",
              "<table border=\"1\" class=\"dataframe\">\n",
              "  <thead>\n",
              "    <tr style=\"text-align: right;\">\n",
              "      <th></th>\n",
              "      <th>userId</th>\n",
              "      <th>age</th>\n",
              "      <th>teamId</th>\n",
              "      <th>strength</th>\n",
              "      <th>hit_count</th>\n",
              "      <th>game_clicks_count</th>\n",
              "      <th>total_purchases_amount</th>\n",
              "      <th>purchases_count</th>\n",
              "      <th>ad_clicks_count</th>\n",
              "      <th>bought_items</th>\n",
              "    </tr>\n",
              "    <tr>\n",
              "      <th>platformType</th>\n",
              "      <th></th>\n",
              "      <th></th>\n",
              "      <th></th>\n",
              "      <th></th>\n",
              "      <th></th>\n",
              "      <th></th>\n",
              "      <th></th>\n",
              "      <th></th>\n",
              "      <th></th>\n",
              "      <th></th>\n",
              "    </tr>\n",
              "  </thead>\n",
              "  <tbody>\n",
              "    <tr>\n",
              "      <th>No Platform</th>\n",
              "      <td>1055.0</td>\n",
              "      <td>3.133333</td>\n",
              "      <td>0.0</td>\n",
              "      <td>0.000000</td>\n",
              "      <td>9.466667</td>\n",
              "      <td>1.466667</td>\n",
              "      <td>13.600000</td>\n",
              "      <td>1.466667</td>\n",
              "      <td>9.466667</td>\n",
              "      <td>1.000000</td>\n",
              "    </tr>\n",
              "    <tr>\n",
              "      <th>android</th>\n",
              "      <td>1215.826087</td>\n",
              "      <td>14.757033</td>\n",
              "      <td>82.117647</td>\n",
              "      <td>0.338865</td>\n",
              "      <td>75.749361</td>\n",
              "      <td>2.667519</td>\n",
              "      <td>10.772379</td>\n",
              "      <td>2.667519</td>\n",
              "      <td>75.749361</td>\n",
              "      <td>0.470588</td>\n",
              "    </tr>\n",
              "    <tr>\n",
              "      <th>iphone</th>\n",
              "      <td>1189.968468</td>\n",
              "      <td>14.768018</td>\n",
              "      <td>78.849099</td>\n",
              "      <td>0.346807</td>\n",
              "      <td>74.849099</td>\n",
              "      <td>2.61036</td>\n",
              "      <td>34.306306</td>\n",
              "      <td>2.61036</td>\n",
              "      <td>74.849099</td>\n",
              "      <td>0.486486</td>\n",
              "    </tr>\n",
              "    <tr>\n",
              "      <th>linux</th>\n",
              "      <td>1189.909091</td>\n",
              "      <td>18.4</td>\n",
              "      <td>84.854545</td>\n",
              "      <td>0.275721</td>\n",
              "      <td>92.545455</td>\n",
              "      <td>3.490909</td>\n",
              "      <td>4.636364</td>\n",
              "      <td>3.490909</td>\n",
              "      <td>92.545455</td>\n",
              "      <td>0.563636</td>\n",
              "    </tr>\n",
              "    <tr>\n",
              "      <th>mac</th>\n",
              "      <td>1165.980769</td>\n",
              "      <td>10.538462</td>\n",
              "      <td>85.519231</td>\n",
              "      <td>0.354300</td>\n",
              "      <td>66.538462</td>\n",
              "      <td>1.980769</td>\n",
              "      <td>9.634615</td>\n",
              "      <td>1.980769</td>\n",
              "      <td>66.538462</td>\n",
              "      <td>0.480769</td>\n",
              "    </tr>\n",
              "    <tr>\n",
              "      <th>windows</th>\n",
              "      <td>1180.503311</td>\n",
              "      <td>15.304636</td>\n",
              "      <td>80.701987</td>\n",
              "      <td>0.302983</td>\n",
              "      <td>74.761589</td>\n",
              "      <td>2.834437</td>\n",
              "      <td>6.642384</td>\n",
              "      <td>2.834437</td>\n",
              "      <td>74.761589</td>\n",
              "      <td>0.496689</td>\n",
              "    </tr>\n",
              "  </tbody>\n",
              "</table>\n",
              "</div>\n",
              "      <button class=\"colab-df-convert\" onclick=\"convertToInteractive('df-47565792-e908-474d-91f0-cfa53275685a')\"\n",
              "              title=\"Convert this dataframe to an interactive table.\"\n",
              "              style=\"display:none;\">\n",
              "        \n",
              "  <svg xmlns=\"http://www.w3.org/2000/svg\" height=\"24px\"viewBox=\"0 0 24 24\"\n",
              "       width=\"24px\">\n",
              "    <path d=\"M0 0h24v24H0V0z\" fill=\"none\"/>\n",
              "    <path d=\"M18.56 5.44l.94 2.06.94-2.06 2.06-.94-2.06-.94-.94-2.06-.94 2.06-2.06.94zm-11 1L8.5 8.5l.94-2.06 2.06-.94-2.06-.94L8.5 2.5l-.94 2.06-2.06.94zm10 10l.94 2.06.94-2.06 2.06-.94-2.06-.94-.94-2.06-.94 2.06-2.06.94z\"/><path d=\"M17.41 7.96l-1.37-1.37c-.4-.4-.92-.59-1.43-.59-.52 0-1.04.2-1.43.59L10.3 9.45l-7.72 7.72c-.78.78-.78 2.05 0 2.83L4 21.41c.39.39.9.59 1.41.59.51 0 1.02-.2 1.41-.59l7.78-7.78 2.81-2.81c.8-.78.8-2.07 0-2.86zM5.41 20L4 18.59l7.72-7.72 1.47 1.35L5.41 20z\"/>\n",
              "  </svg>\n",
              "      </button>\n",
              "      \n",
              "  <style>\n",
              "    .colab-df-container {\n",
              "      display:flex;\n",
              "      flex-wrap:wrap;\n",
              "      gap: 12px;\n",
              "    }\n",
              "\n",
              "    .colab-df-convert {\n",
              "      background-color: #E8F0FE;\n",
              "      border: none;\n",
              "      border-radius: 50%;\n",
              "      cursor: pointer;\n",
              "      display: none;\n",
              "      fill: #1967D2;\n",
              "      height: 32px;\n",
              "      padding: 0 0 0 0;\n",
              "      width: 32px;\n",
              "    }\n",
              "\n",
              "    .colab-df-convert:hover {\n",
              "      background-color: #E2EBFA;\n",
              "      box-shadow: 0px 1px 2px rgba(60, 64, 67, 0.3), 0px 1px 3px 1px rgba(60, 64, 67, 0.15);\n",
              "      fill: #174EA6;\n",
              "    }\n",
              "\n",
              "    [theme=dark] .colab-df-convert {\n",
              "      background-color: #3B4455;\n",
              "      fill: #D2E3FC;\n",
              "    }\n",
              "\n",
              "    [theme=dark] .colab-df-convert:hover {\n",
              "      background-color: #434B5C;\n",
              "      box-shadow: 0px 1px 3px 1px rgba(0, 0, 0, 0.15);\n",
              "      filter: drop-shadow(0px 1px 2px rgba(0, 0, 0, 0.3));\n",
              "      fill: #FFFFFF;\n",
              "    }\n",
              "  </style>\n",
              "\n",
              "      <script>\n",
              "        const buttonEl =\n",
              "          document.querySelector('#df-47565792-e908-474d-91f0-cfa53275685a button.colab-df-convert');\n",
              "        buttonEl.style.display =\n",
              "          google.colab.kernel.accessAllowed ? 'block' : 'none';\n",
              "\n",
              "        async function convertToInteractive(key) {\n",
              "          const element = document.querySelector('#df-47565792-e908-474d-91f0-cfa53275685a');\n",
              "          const dataTable =\n",
              "            await google.colab.kernel.invokeFunction('convertToInteractive',\n",
              "                                                     [key], {});\n",
              "          if (!dataTable) return;\n",
              "\n",
              "          const docLinkHtml = 'Like what you see? Visit the ' +\n",
              "            '<a target=\"_blank\" href=https://colab.research.google.com/notebooks/data_table.ipynb>data table notebook</a>'\n",
              "            + ' to learn more about interactive tables.';\n",
              "          element.innerHTML = '';\n",
              "          dataTable['output_type'] = 'display_data';\n",
              "          await google.colab.output.renderOutput(dataTable, element);\n",
              "          const docLink = document.createElement('div');\n",
              "          docLink.innerHTML = docLinkHtml;\n",
              "          element.appendChild(docLink);\n",
              "        }\n",
              "      </script>\n",
              "    </div>\n",
              "  </div>\n",
              "  "
            ]
          },
          "metadata": {},
          "execution_count": 49
        }
      ]
    },
    {
      "cell_type": "markdown",
      "source": [
        "**TOTAL ITEM PURCHASED BY EACH USER**"
      ],
      "metadata": {
        "id": "Y9eV8bv5mb1J"
      }
    },
    {
      "cell_type": "code",
      "source": [
        "import seaborn as sns\n",
        "import matplotlib.pyplot as plt\n",
        "\n",
        "#Defining a custom color palette\n",
        "colors = ['#E74C3C', '#3498DB', '#2ECC71']\n",
        "\n",
        "#Setting the style and color palette for a more visually appealing plot\n",
        "sns.set(style=\"whitegrid\", palette=colors)\n",
        "\n",
        "#Plotting the swarm plot of bought items by users\n",
        "plt.figure(figsize=(10, 6)) # Adjust the figure size as needed\n",
        "sns.swarmplot(data=DF, x=\"total_purchases_amount\", size=6)\n",
        "\n",
        "#Customizing the plot\n",
        "plt.xlabel(\"Total Purchases Amount\", fontsize=12)\n",
        "plt.ylabel(\"Frequency\", fontsize=12)\n",
        "plt.title(\"Swarm Plot of Bought Items by Users\", fontsize=14)\n",
        "plt.xticks(fontsize=10)\n",
        "plt.yticks(fontsize=10)\n",
        "\n",
        "#Adding a horizontal grid for better readability\n",
        "plt.grid(axis='y', linestyle='--', alpha=0.5)\n",
        "\n",
        "#Adding a background color for more contrast\n",
        "plt.gca().set_facecolor('#f2f2f2')\n",
        "\n",
        "#Removing the top and right spines\n",
        "sns.despine(top=True, right=True)\n",
        "\n",
        "#Displaying the plot with improved visual effects\n",
        "plt.show()\n",
        "\n",
        "\n",
        "\n",
        "\n",
        "\n",
        "\n"
      ],
      "metadata": {
        "colab": {
          "base_uri": "https://localhost:8080/",
          "height": 666
        },
        "id": "xRsVMyMymaHU",
        "outputId": "fcc5e841-ad78-431a-9236-42ac501c34f5"
      },
      "execution_count": 50,
      "outputs": [
        {
          "output_type": "stream",
          "name": "stderr",
          "text": [
            "/usr/local/lib/python3.10/dist-packages/seaborn/categorical.py:3544: UserWarning: 18.1% of the points cannot be placed; you may want to decrease the size of the markers or use stripplot.\n",
            "  warnings.warn(msg, UserWarning)\n",
            "/usr/local/lib/python3.10/dist-packages/seaborn/categorical.py:3544: UserWarning: 50.6% of the points cannot be placed; you may want to decrease the size of the markers or use stripplot.\n",
            "  warnings.warn(msg, UserWarning)\n"
          ]
        },
        {
          "output_type": "display_data",
          "data": {
            "text/plain": [
              "<Figure size 1000x600 with 1 Axes>"
            ],
            "image/png": "[encoded data removed]"
          },
          "metadata": {}
        }
      ]
    },
    {
      "cell_type": "markdown",
      "source": [
        "**TOP 3 TEAMS WITH MOST USERS COUNT**"
      ],
      "metadata": {
        "id": "xSnHyAxEnAO4"
      }
    },
    {
      "cell_type": "code",
      "source": [
        "# Top teams with highest members\n",
        "    \n",
        "teams = DF.copy()\n",
        "teams = teams[['teamId','userId']]\n",
        "teams = teams[teams['teamId'].notna()]\n",
        "teams = teams.groupby('teamId')['userId'].count().to_frame().reset_index()\n",
        "teams = teams.rename(columns = {'userId':'users_count'})\n",
        "\n",
        "# Drop instances from this data frame if team id = 0 which means the user has no team.\n",
        "teams = teams[teams.teamId != 0]\n",
        "teams[\"Percentage\"] = 100*(teams[\"users_count\"]/teams['users_count'].sum())\n",
        "teams.sort_values(by='users_count', ascending=False, inplace=True)\n",
        "teams=teams.reset_index(drop=True)\n",
        "teams = teams.head(3)"
      ],
      "metadata": {
        "id": "fn_e21vFm2gU"
      },
      "execution_count": 52,
      "outputs": []
    },
    {
      "cell_type": "code",
      "source": [
        "import seaborn as sns\n",
        "import matplotlib.pyplot as plt\n",
        "\n",
        "# Setting the style for a more modern look\n",
        "sns.set_style(\"whitegrid\")\n",
        "\n",
        "# Pie Chart for top 3 teams with most users count\n",
        "custom_colors = ['#FFC300', '#FF5733', '#C70039', '#900C3F', '#581845']  # Define your custom colors\n",
        "plt.figure(figsize=(8, 8)) # Adjust the figure size as needed\n",
        "\n",
        "# Creating the pie chart with custom colors\n",
        "wedges, _, _ = plt.pie(teams[\"users_count\"], autopct='%1.1f%%', startangle=90, pctdistance=0.87, colors=custom_colors,\n",
        "                       wedgeprops={\"edgecolor\": \"black\", \"linewidth\": 2, \"alpha\": 0.8})\n",
        "\n",
        "# Adding legend and labels\n",
        "plt.legend(wedges, labels=teams[\"teamId\"], loc=\"best\")\n",
        "plt.axis('equal')\n",
        "\n",
        "# Adding a title\n",
        "plt.title(\"Top 3 Teams with Most Users Count\")\n",
        "\n",
        "# Customizing the design\n",
        "plt.setp(wedges, width=0.4)  # Adjust the width of the wedges\n",
        "plt.gca().add_artist(plt.Circle((0, 0), 0.3, color='white'))  # Add a white circle in the center for a donut-like effect\n",
        "\n",
        "# Displaying the plot\n",
        "plt.show()\n"
      ],
      "metadata": {
        "colab": {
          "base_uri": "https://localhost:8080/",
          "height": 730
        },
        "id": "Z6M3EMmJnCLV",
        "outputId": "6b5bb291-b6b9-48ab-b927-6902fdb71826"
      },
      "execution_count": 53,
      "outputs": [
        {
          "output_type": "stream",
          "name": "stderr",
          "text": [
            "<ipython-input-53-d506952e826c>:16: UserWarning: You have mixed positional and keyword arguments, some input may be discarded.\n",
            "  plt.legend(wedges, labels=teams[\"teamId\"], loc=\"best\")\n"
          ]
        },
        {
          "output_type": "display_data",
          "data": {
            "text/plain": [
              "<Figure size 800x800 with 1 Axes>"
            ],
            "image/png": "[encoded data removed]"
          },
          "metadata": {}
        }
      ]
    },
    {
      "cell_type": "code",
      "source": [
        "# remove instances where users have no team\n",
        "TopUsers = TopUsers[TopUsers.userId != 0]\n",
        "TopUsers[\"Percentage\"] = 100*(TopUsers[\"Total_Amount\"]/TopUsers['Total_Amount'].sum())\n",
        "TopUsers.sort_values(by='Total_Amount', ascending=False, inplace=True)\n",
        "TopUsers=TopUsers.reset_index(drop=True)\n",
        "TopUsers = TopUsers.head(10)"
      ],
      "metadata": {
        "colab": {
          "base_uri": "https://localhost:8080/"
        },
        "id": "kZ0V0GypnlAG",
        "outputId": "856c9451-4622-4e7a-9fae-500a9f834ca1"
      },
      "execution_count": 57,
      "outputs": [
        {
          "output_type": "stream",
          "name": "stderr",
          "text": [
            "<ipython-input-57-83705fd5e5cd>:3: SettingWithCopyWarning: \n",
            "A value is trying to be set on a copy of a slice from a DataFrame.\n",
            "Try using .loc[row_indexer,col_indexer] = value instead\n",
            "\n",
            "See the caveats in the documentation: https://pandas.pydata.org/pandas-docs/stable/user_guide/indexing.html#returning-a-view-versus-a-copy\n",
            "  TopUsers[\"Percentage\"] = 100*(TopUsers[\"Total_Amount\"]/TopUsers['Total_Amount'].sum())\n",
            "<ipython-input-57-83705fd5e5cd>:4: SettingWithCopyWarning: \n",
            "A value is trying to be set on a copy of a slice from a DataFrame\n",
            "\n",
            "See the caveats in the documentation: https://pandas.pydata.org/pandas-docs/stable/user_guide/indexing.html#returning-a-view-versus-a-copy\n",
            "  TopUsers.sort_values(by='Total_Amount', ascending=False, inplace=True)\n"
          ]
        }
      ]
    },
    {
      "cell_type": "markdown",
      "source": [
        "# MACHINE LEARNING"
      ],
      "metadata": {
        "id": "M5-phWXUnm9u"
      }
    },
    {
      "cell_type": "markdown",
      "source": [
        "**NAIVE BAYES**"
      ],
      "metadata": {
        "id": "Ujso4wZtrlGv"
      }
    },
    {
      "cell_type": "code",
      "source": [
        "#classification\n",
        "#drop columns not needed for classification\n",
        "DF.drop(['platformType', 'country', 'userId','timestamp'], axis=1, inplace=True)"
      ],
      "metadata": {
        "id": "7ifE3UM0nq3k"
      },
      "execution_count": 58,
      "outputs": []
    },
    {
      "cell_type": "code",
      "source": [
        "#convert pandas dataframe to spark\n",
        "DF = spark.createDataFrame(DF)"
      ],
      "metadata": {
        "colab": {
          "base_uri": "https://localhost:8080/"
        },
        "id": "aug9rIJmnvus",
        "outputId": "2ea9aefb-d365-4054-eb83-5802cae8c395"
      },
      "execution_count": 59,
      "outputs": [
        {
          "output_type": "stream",
          "name": "stderr",
          "text": [
            "/content/spark-3.2.1-bin-hadoop2.7/python/pyspark/sql/pandas/conversion.py:371: FutureWarning: iteritems is deprecated and will be removed in a future version. Use .items instead.\n",
            "  for column, series in pdf.iteritems():\n"
          ]
        }
      ]
    },
    {
      "cell_type": "code",
      "source": [
        "DF = DF.withColumnRenamed(\"bought_items\", \"label\")"
      ],
      "metadata": {
        "id": "NljduVg-n6xn"
      },
      "execution_count": 60,
      "outputs": []
    },
    {
      "cell_type": "code",
      "source": [
        "#consolidate all of the predictor columns into a single column\n",
        "# Create an assembler object\n",
        "assembler = VectorAssembler(inputCols=[\n",
        "    'age','teamId','strength', 'hit_count',\n",
        "    'game_clicks_count', \n",
        "    'total_purchases_amount',\n",
        "    'purchases_count', 'ad_clicks_count'\n",
        "], outputCol='features')\n",
        "\n",
        "# Consolidate predictor columns\n",
        "df_assembled = assembler.transform(DF)\n",
        "\n",
        "# Check the resulting column\n",
        "df_assembled.show(5, truncate=False)"
      ],
      "metadata": {
        "id": "cdNelJmTrIxf",
        "colab": {
          "base_uri": "https://localhost:8080/"
        },
        "outputId": "61348e4f-6b28-40b9-b108-6ac1439a03b5"
      },
      "execution_count": 61,
      "outputs": [
        {
          "output_type": "stream",
          "name": "stdout",
          "text": [
            "+---+------+--------------+---------+-----------------+----------------------+---------------+---------------+-----+------------------------------------------------------+\n",
            "|age|teamId|strength      |hit_count|game_clicks_count|total_purchases_amount|purchases_count|ad_clicks_count|label|features                                              |\n",
            "+---+------+--------------+---------+-----------------+----------------------+---------------+---------------+-----+------------------------------------------------------+\n",
            "|1  |90    |0.443162418548|7        |0                |0.0                   |0              |7              |0    |[1.0,90.0,0.443162418548,7.0,0.0,0.0,0.0,7.0]         |\n",
            "|0  |90    |0.443162418548|238      |0                |0.0                   |0              |238            |0    |(8,[1,2,3,7],[90.0,0.443162418548,238.0,238.0])       |\n",
            "|53 |90    |0.443162418548|243      |9                |61.0                  |9              |243            |1    |[53.0,90.0,0.443162418548,243.0,9.0,61.0,9.0,243.0]   |\n",
            "|45 |90    |0.443162418548|233      |10               |155.0                 |10             |233            |1    |[45.0,90.0,0.443162418548,233.0,10.0,155.0,10.0,233.0]|\n",
            "|0  |90    |0.443162418548|73       |0                |0.0                   |0              |73             |0    |(8,[1,2,3,7],[90.0,0.443162418548,73.0,73.0])         |\n",
            "+---+------+--------------+---------+-----------------+----------------------+---------------+---------------+-----+------------------------------------------------------+\n",
            "only showing top 5 rows\n",
            "\n"
          ]
        }
      ]
    },
    {
      "cell_type": "code",
      "source": [
        "train, test = df_assembled.randomSplit([0.8, 0.2], seed = 3000)\n",
        "print(\"Training Dataset Count: \" + str(train.count()))\n",
        "print(\"Test Dataset Count: \" + str(test.count()))"
      ],
      "metadata": {
        "colab": {
          "base_uri": "https://localhost:8080/"
        },
        "id": "wSNl79kerUWA",
        "outputId": "b07f760d-cabe-4bd1-842b-9baf69835c0d"
      },
      "execution_count": 63,
      "outputs": [
        {
          "output_type": "stream",
          "name": "stdout",
          "text": [
            "Training Dataset Count: 902\n",
            "Test Dataset Count: 206\n"
          ]
        }
      ]
    },
    {
      "cell_type": "code",
      "source": [
        "nb = NaiveBayes(modelType=\"multinomial\")"
      ],
      "metadata": {
        "id": "CuAyPcPjrXBk"
      },
      "execution_count": 64,
      "outputs": []
    },
    {
      "cell_type": "code",
      "source": [
        "nbmodel = nb.fit(train)\n",
        "predictions_df = nbmodel.transform(test)\n",
        "predictions_df.show(5, True)"
      ],
      "metadata": {
        "id": "YudozogCrZn7"
      },
      "execution_count": null,
      "outputs": []
    },
    {
      "cell_type": "code",
      "source": [
        "evaluator = MulticlassClassificationEvaluator(labelCol=\"label\", predictionCol=\"prediction\", metricName=\"accuracy\") \n",
        "nbaccuracy = evaluator.evaluate(predictions_df) \n",
        "print(\"Test accuracy = \" + str(nbaccuracy))"
      ],
      "metadata": {
        "colab": {
          "base_uri": "https://localhost:8080/"
        },
        "id": "No1mfBCTrd0T",
        "outputId": "3ae6d972-6123-4f5b-df40-d8a45c1e4a5d"
      },
      "execution_count": 66,
      "outputs": [
        {
          "output_type": "stream",
          "name": "stdout",
          "text": [
            "Test accuracy = 0.9563106796116505\n"
          ]
        }
      ]
    },
    {
      "cell_type": "code",
      "source": [
        "import matplotlib.pyplot as plt\n",
        "import numpy as np\n",
        "from sklearn.metrics import confusion_matrix, precision_recall_curve, roc_curve, auc\n",
        "\n",
        "# Confusion Matrix\n",
        "y_true = np.array(predictions_df.select('label').collect())\n",
        "y_pred = np.array(predictions_df.select('prediction').collect())\n",
        "\n",
        "confusion_mat = confusion_matrix(y_true, y_pred)\n",
        "plt.imshow(confusion_mat, cmap='Blues', interpolation='nearest')\n",
        "plt.colorbar()\n",
        "plt.xlabel('Predicted Labels')\n",
        "plt.ylabel('True Labels')\n",
        "plt.title('Confusion Matrix')\n",
        "plt.show()"
      ],
      "metadata": {
        "colab": {
          "base_uri": "https://localhost:8080/",
          "height": 539
        },
        "id": "dmwESg8Gt35H",
        "outputId": "2439e3d1-7374-43a8-8d3f-67299fe8d589"
      },
      "execution_count": 67,
      "outputs": [
        {
          "output_type": "display_data",
          "data": {
            "text/plain": [
              "<Figure size 800x550 with 2 Axes>"
            ],
            "image/png": "[encoded data removed]"
          },
          "metadata": {}
        }
      ]
    },
    {
      "cell_type": "markdown",
      "source": [
        "**CLUSTERING**"
      ],
      "metadata": {
        "id": "oppgyt_Vr_rf"
      }
    },
    {
      "cell_type": "code",
      "source": [
        "#clustering\n",
        "from itertools import cycle, islice\n",
        "from math import sqrt\n",
        "from numpy import array\n",
        "from pandas.plotting import parallel_coordinates\n",
        "from pyspark.ml.clustering import KMeans as KM\n",
        "from pyspark.mllib.linalg import DenseVector\n",
        "import matplotlib.pyplot as plt\n",
        "import numpy as np\n",
        "import pandas as pd\n",
        "\n",
        "def computeCost(featuresAndPrediction, model):\n",
        "    allClusterCenters = [DenseVector(c) for c in model.clusterCenters()]\n",
        "    arrayCollection   = featuresAndPrediction.rdd.map(array)\n",
        "\n",
        "    def error(point, predictedCluster):\n",
        "        center = allClusterCenters[predictedCluster]\n",
        "        z      = point - center\n",
        "        return sqrt((z*z).sum())\n",
        "    \n",
        "    return arrayCollection.map(lambda row: error(row[0], row[1])).reduce(lambda x, y: x + y)\n",
        "\n",
        "\n",
        "def elbow(elbowset, clusters):\n",
        "\twsseList = []\t\n",
        "\tfor k in clusters:\n",
        "\t\tprint(\"Training for cluster size {} \".format(k))\n",
        "\t\tkmeans = KM(k = k, seed = 1)\n",
        "\t\tmodel = kmeans.fit(elbowset)\n",
        "\t\ttransformed = model.transform(elbowset)\n",
        "\t\tfeaturesAndPrediction = transformed.select(\"features\", \"prediction\")\n",
        "\n",
        "\t\tW = computeCost(featuresAndPrediction, model)\n",
        "\t\tprint(\"......................WSSE = {} \".format(W))\n",
        "\n",
        "\t\twsseList.append(W)\n",
        "\treturn wsseList\n",
        "\n",
        "def elbow_plot(wsseList, clusters):\n",
        "\twsseDF = pd.DataFrame({'WSSE' : wsseList, 'k' : clusters })\n",
        "\twsseDF.plot(y='WSSE', x='k', figsize=(15,10), grid=True, marker='o')\n",
        "\n",
        "def pd_centers(featuresUsed, centers):\n",
        "\tcolNames = list(featuresUsed)\n",
        "\tcolNames.append('prediction')\n",
        "\n",
        "\t# Zip with a column called 'prediction' (index)\n",
        "\tZ = [np.append(A, index) for index, A in enumerate(centers)]\n",
        "\n",
        "\t# Convert to pandas for plotting\n",
        "\tP = pd.DataFrame(Z, columns=colNames)\n",
        "\tP['prediction'] = P['prediction'].astype(int)\n",
        "\treturn P\n",
        "\n",
        "def parallel_plot(data, P):\n",
        "\tmy_colors = list(islice(cycle(['b', 'r', 'g', 'y', 'k']), None, len(P)))\n",
        "\tplt.figure(figsize=(15,8)).gca().axes.set_ylim([-3,+3])\n",
        "\tparallel_coordinates(data, 'prediction', color = my_colors, marker='o')"
      ],
      "metadata": {
        "id": "qT7grKBfr2kp"
      },
      "execution_count": 68,
      "outputs": []
    },
    {
      "cell_type": "code",
      "source": [
        "#Clustering\n",
        "from pyspark.ml.clustering import KMeans\n",
        "from pyspark.ml.feature import VectorAssembler\n",
        "from pyspark.ml.feature import StandardScaler\n",
        "featuresUsed = ['age','teamId','strength', 'hit_count',\n",
        "    'game_clicks_count', \n",
        "    'total_purchases_amount',\n",
        "    'purchases_count', 'ad_clicks_count']\n",
        "assembler = VectorAssembler(inputCols=featuresUsed, outputCol=\"features_unscaled\")\n",
        "assembled = assembler.transform(DF)"
      ],
      "metadata": {
        "id": "WVLJNGB2sFNj"
      },
      "execution_count": 69,
      "outputs": []
    },
    {
      "cell_type": "code",
      "source": [
        "scaler = StandardScaler(inputCol=\"features_unscaled\", outputCol=\"features\", withStd=True, withMean=True)\n",
        "scalerModel = scaler.fit(assembled)\n",
        "scaledData = scalerModel.transform(assembled)"
      ],
      "metadata": {
        "id": "Ycf-cbp9sSS3"
      },
      "execution_count": 70,
      "outputs": []
    },
    {
      "cell_type": "code",
      "source": [
        "scaledData = scaledData.select(\"features\", \"label\")\n",
        "\n",
        "elbowset = scaledData.filter((scaledData.label % 3) == 0).select(\"features\")\n",
        "elbowset.persist()"
      ],
      "metadata": {
        "colab": {
          "base_uri": "https://localhost:8080/"
        },
        "id": "km0hEBZQsUdz",
        "outputId": "4a3dc61d-f63e-41bc-a766-4d44009c1ad0"
      },
      "execution_count": 71,
      "outputs": [
        {
          "output_type": "execute_result",
          "data": {
            "text/plain": [
              "DataFrame[features: vector]"
            ]
          },
          "metadata": {},
          "execution_count": 71
        }
      ]
    },
    {
      "cell_type": "code",
      "source": [
        "clusters = range(2,20)\n",
        "\n",
        "wsseList = elbow(elbowset, clusters)"
      ],
      "metadata": {
        "colab": {
          "base_uri": "https://localhost:8080/"
        },
        "id": "F9pLN1RTsXYY",
        "outputId": "2edac2dd-c0da-44b1-aad4-b69f09336e9e"
      },
      "execution_count": 74,
      "outputs": [
        {
          "output_type": "stream",
          "name": "stdout",
          "text": [
            "Training for cluster size 2 \n",
            "......................WSSE = 741.4889848025784 \n",
            "Training for cluster size 3 \n",
            "......................WSSE = 673.3852745704719 \n",
            "Training for cluster size 4 \n",
            "......................WSSE = 563.6388529507342 \n",
            "Training for cluster size 5 \n",
            "......................WSSE = 509.34972250261455 \n",
            "Training for cluster size 6 \n",
            "......................WSSE = 483.90423202101596 \n",
            "Training for cluster size 7 \n",
            "......................WSSE = 447.6186047857428 \n",
            "Training for cluster size 8 \n",
            "......................WSSE = 442.7244945627229 \n",
            "Training for cluster size 9 \n",
            "......................WSSE = 397.4934102040629 \n",
            "Training for cluster size 10 \n",
            "......................WSSE = 381.83291503087537 \n",
            "Training for cluster size 11 \n",
            "......................WSSE = 371.8173042340957 \n",
            "Training for cluster size 12 \n",
            "......................WSSE = 344.0233829262308 \n",
            "Training for cluster size 13 \n",
            "......................WSSE = 336.98943956999733 \n",
            "Training for cluster size 14 \n",
            "......................WSSE = 337.94649566291037 \n",
            "Training for cluster size 15 \n",
            "......................WSSE = 310.6278433274341 \n",
            "Training for cluster size 16 \n",
            "......................WSSE = 313.2748000310637 \n",
            "Training for cluster size 17 \n",
            "......................WSSE = 297.25046695183573 \n",
            "Training for cluster size 18 \n",
            "......................WSSE = 295.07895133347205 \n",
            "Training for cluster size 19 \n",
            "......................WSSE = 284.00373795868825 \n"
          ]
        }
      ]
    },
    {
      "cell_type": "code",
      "source": [
        "elbow_plot(wsseList, clusters)"
      ],
      "metadata": {
        "colab": {
          "base_uri": "https://localhost:8080/",
          "height": 608
        },
        "id": "YDfzZcWks8_h",
        "outputId": "2e8b1d25-cdc0-4d7c-849f-1063f4f73e19"
      },
      "execution_count": 75,
      "outputs": [
        {
          "output_type": "display_data",
          "data": {
            "text/plain": [
              "<Figure size 1500x1000 with 1 Axes>"
            ],
            "image/png": "[encoded data removed]"
          },
          "metadata": {}
        }
      ]
    }
  ]
}